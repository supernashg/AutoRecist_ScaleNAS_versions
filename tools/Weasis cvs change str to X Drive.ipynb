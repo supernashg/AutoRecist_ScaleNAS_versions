{
 "cells": [
  {
   "cell_type": "code",
   "execution_count": 1,
   "metadata": {
    "collapsed": false
   },
   "outputs": [
    {
     "name": "stdout",
     "output_type": "stream",
     "text": [
      "total 46M\r\n",
      "-rw-r--r--. 1 jm4669 domain users  41K Mar 16 20:15 Weasis cvs change str to X Drive.ipynb\r\n",
      "-rw-r--r--. 1 jm4669 domain users 706K Mar 16 20:13 RawToWeasisUnionAIRadiologist_AmgenatXdrive.csv\r\n",
      "-rw-r--r--. 1 jm4669 domain users 167K Mar 16 19:29 ScaleNAS_3Slices to Weasis Raw Amgen.ipynb\r\n",
      "-rw-r--r--. 1 jm4669 domain users 410K Mar 16 19:27 RawToWeasisUnionAIRadiologist_Amgen20020408.csv\r\n",
      "drwxrwxr-x. 2 jm4669 domain users  232 Mar 16 19:05 cache\r\n",
      "-rw-r--r--. 1 jm4669 domain users  49K Mar 16 18:58 ScaleNAS_3Slices to Weasis Raw Union Contour of AI and Radiologist CUIMC1033.ipynb\r\n",
      "-rw-r--r--. 1 jm4669 domain users 853K Mar 16 18:29 RawToWeasisUnionAIRadiologist_1033atXdrive.csv\r\n",
      "-rw-r--r--. 1 jm4669 domain users 867K Mar 16 15:06 RawToWeasisUnionAIRadiologist_1033.csv\r\n",
      "-rw-r--r--. 1 jm4669 domain users 4.7K Mar 15 22:59 Display Weasis Raw.ipynb\r\n",
      "-rw-r--r--. 1 jm4669 domain users 6.7M Mar 15 22:58 test0028.png\r\n",
      "-rw-r--r--. 1 jm4669 domain users 1.7M Mar 15 22:51 test.png\r\n",
      "-rw-r--r--. 1 jm4669 domain users 171K Mar 15 18:05 RawToWeasisUnionAIRadiologist.csv\r\n",
      "-rw-r--r--. 1 jm4669 domain users 115K Mar 14 01:04 RawToWeasis.csv\r\n",
      "drwxr-xr-x. 2 jm4669 domain users  112 Mar 13 16:54 __pycache__\r\n",
      "-rw-r--r--. 1 jm4669 domain users 1.5M Feb  9 13:10 Compare Images from MVP-Q1 MVP-Q2 and ScaleNAS_.ipynb\r\n",
      "-rw-r--r--. 1 jm4669 domain users  14K Jan 26 21:24 utils_metrics_3d.py\r\n",
      "-rw-r--r--. 1 jm4669 domain users  21K Jan 26 21:21 utils_test.py\r\n",
      "-rw-r--r--. 1 jm4669 domain users  67K Jan 15 20:15 Search Find a png from json.ipynb\r\n",
      "-rw-r--r--. 1 jm4669 domain users  42K Dec  2 20:38 ScaleNAS_Q5 Predicted mask to Metrics Cougar302_80pts Allsites.ipynb\r\n",
      "-rw-r--r--. 1 jm4669 domain users  35K Dec  2 16:56 ScaleNAS_Q5 Predicted mask to Metrics Cougar302_80pts LNs.ipynb\r\n",
      "-rw-r--r--. 1 jm4669 domain users  46K Dec  1 22:24 ScaleNAS_Q5 Test and save predicted mask.ipynb\r\n",
      "-rw-r--r--. 1 jm4669 domain users  49K Nov 30 14:24 Cougar302_80pts_test_metrics_vol.csv\r\n",
      "-rw-r--r--. 1 jm4669 domain users  51K Nov 24 14:13 ScaleNAS_Q5 Predicted mask to Metrics Amgen Lung and LN.ipynb\r\n",
      "-rw-r--r--. 1 jm4669 domain users  49K Nov 19 11:23 ScaleNAS_Q5 Predicted mask to Metrics CUIMC Lung and LN.ipynb\r\n",
      "-rw-r--r--. 1 jm4669 domain users  51K Nov 19 00:58 ScaleNAS_Q5 Predicted mask to Metrics Amgen.ipynb\r\n",
      "-rw-r--r--. 1 jm4669 domain users 208K Nov 19 00:20 PDS_AMGEN_20020408_22Cat_test_lung_seg_metrics_vol_2021116.csv\r\n",
      "-rw-r--r--. 1 jm4669 domain users  76K Nov 18 21:12 PDS_CUIMC_22Cat_test_lung_seg_metrics_vol_20211116.csv\r\n",
      "-rw-r--r--. 1 jm4669 domain users  47K Nov 17 11:44 ScaleNAS_Q5 Predicted mask to Metrics CUIMC.ipynb\r\n",
      "-rw-r--r--. 1 jm4669 domain users 263K Nov 17 03:27 PDS_AMGEN_20020408_22Cat_test_liver_seg_metrics_vol_2021116.csv\r\n",
      "-rw-r--r--. 1 jm4669 domain users 101K Nov 17 01:40 PDS_CUIMC_22Cat_test_liver_seg_metrics_vol_20211116.csv\r\n",
      "drwxr-xr-x. 3 jm4669 domain users   38 Nov 16 23:22 mask_1514\r\n",
      "drwxr-xr-x. 3 jm4669 domain users   20 Nov 16 23:16 log\r\n",
      "drwxr-xr-x. 3 jm4669 domain users   20 Nov 16 23:16 output\r\n",
      "-rw-r--r--. 1 jm4669 domain users  11K Oct 26 12:39 train_teacher_model.py\r\n",
      "-rw-r--r--. 1 jm4669 domain users 101K Jul 19  2021 PDS_CUIMC_22Cat_test_liver_seg_metrics_vol_20210719.csv\r\n",
      "-rw-r--r--. 1 jm4669 domain users 262K Jul 19  2021 PDS_AMGEN_20020408_22Cat_test_liver_seg_metrics_vol_20210719.csv\r\n",
      "-rw-rw-r--. 1 jm4669 domain users 9.4K Jul 11  2021 lesion_test.py\r\n",
      "-rw-r--r--. 1 jm4669 domain users 5.1K Jul  9  2021 evo_server.py\r\n",
      "-rw-r--r--. 1 jm4669 domain users 6.9K Jul  8  2021 Lesion_evo_seg_test.py\r\n",
      "-rw-r--r--. 1 jm4669 domain users 7.0K Jul  8  2021 Lesion_random_seg_test.py\r\n",
      "-rw-r--r--. 1 jm4669 domain users 6.9K Jul  6  2021 evo_seg_test.py\r\n",
      "drwxrwxr-x. 2 jm4669 domain users 580K Jun 17  2021 test_val_results\r\n",
      "-rw-rw-r--. 1 jm4669 domain users 9.0K Jun 17  2021 teacher_model_test.py\r\n",
      "-rw-rw-r--. 1 jm4669 domain users 1.4K Jun 11  2021 change_path.py\r\n",
      "-rw-r--r--. 1 jm4669 domain users  12K Jun  6  2021 train_teacher_model_DP.py\r\n",
      "-rw-r--r--. 1 jm4669 domain users  13K May 27  2021 train_superscalenet_seg_Lesion.py\r\n",
      "-rw-r--r--. 1 jm4669 domain users  21M May 21  2021 1.png\r\n",
      "-rw-r--r--. 1 jm4669 domain users 9.7M May 21  2021 montage.png\r\n",
      "-rw-r--r--. 1 jm4669 domain users  606 Nov 24  2020 _init_paths.py\r\n",
      "-rw-r--r--. 1 jm4669 domain users 6.9K Nov 24  2020 random_seg_test.py\r\n",
      "-rwxr-xr-x. 1 jm4669 domain users 4.8K Nov 24  2020 scalenet_pose_test.py\r\n",
      "-rw-r--r--. 1 jm4669 domain users 4.4K Nov 24  2020 scalenet_seg_test.py\r\n",
      "-rw-r--r--. 1 jm4669 domain users  14K Nov 24  2020 train_superscalenet_seg.py\r\n"
     ]
    }
   ],
   "source": [
    "!ls -lht"
   ]
  },
  {
   "cell_type": "code",
   "execution_count": 2,
   "metadata": {
    "collapsed": false
   },
   "outputs": [],
   "source": [
    "def pd_str_replace(df , col, ori, new):\n",
    "    if isinstance(col , str):\n",
    "        df[col] = df[col].str.replace(ori,new, case = False) \n",
    "    elif isinstance(col, list):\n",
    "        for one in col:\n",
    "            pd_str_replace(df , one, ori, new)\n",
    "    else:\n",
    "        raise('col instance should be str or list')\n",
    "        \n",
    "        \n",
    "\n",
    "def str_x2mnt(df):\n",
    "\n",
    "    pd_str_replace(df, ['Image File Path' , 'Contour File Path'], \"X:\" , \"/mnt/X-drive\")\n",
    "    pd_str_replace(df, ['Image File Path' , 'Contour File Path'], r\"\\\\\" , \"/\")\n",
    "    pd_str_replace(df, ['Image File Path'], \"/mnt/X-drive/ClinicalTrials/FNIH_VOLPACK\", \"/mnt/fast-disk1/mjc/AutoRecist/Inputs\")\n",
    "    pd_str_replace(df, ['Image File Path'], \"/mnt/X-drive/ClinicalTrialDone/FNIH_VOLPACK\", \"/mnt/fast-disk1/mjc/AutoRecist/Inputs\")\n",
    "    pd_str_replace(df, ['Image File Path'], \"/mnt/X-drive/ClinicalTrials\", \"/mnt/fast-disk1/mjc/AutoRecist/Inputs\")\n",
    "\n",
    "    pd_str_replace(df, ['Contour File Path'], \"/mnt/X-drive/ConvWeasisToRaw/PDS_AUTO_RECIST\", \"/mnt/fast-disk1/mjc/AutoRecist/Inputs/ConvWeasisToRaw/PDS_AUTO_RECIST_RAW\")\n",
    "    pd_str_replace(df, ['Contour File Path'], \"/mnt/X-drive/ConvWeasisToRaw\", \"/mnt/fast-disk1/mjc/AutoRecist/Inputs/ConvWeasisToRaw\")\n",
    "    pd_str_replace(df, ['Contour File Path'], \"/mnt/X-drive/ConvWeasisToMatlab\", \"/mnt/fast-disk1/mjc/AutoRecist/Inputs/ConvWeasisToRaw\")\n",
    "    return df\n",
    "\n",
    "def str_mnt2x(df):\n",
    "\n",
    "    pd_str_replace(df, ['Image File Path'], \n",
    "                   \"/mnt/fast-disk1/mjc/AutoRecist/Inputs/AMGEN/\",\n",
    "                  \"/mnt/X-drive/ClinicalTrials/FNIH_VOLPACK/AMGEN/\",)\n",
    "    pd_str_replace(df, ['Image File Path'], \"/mnt/fast-disk1/mjc/AutoRecist/Inputs\", \"/mnt/X-drive/ClinicalTrials\")\n",
    "\n",
    "    pd_str_replace(df, ['Contour File Path'], \n",
    "                   \"/mnt/fast-disk1/refine_gt/RawToWeasis/\",\n",
    "                   r\"X:\\Users\\JingchenMa\\AutoRecist\\RawToWeasis_CUIMC_299\\\\\")\n",
    "    pd_str_replace(df, ['Contour File Path'], \n",
    "                   \"/mnt/fast-disk1/refine_gt/\",\n",
    "                   r\"X:\\Users\\JingchenMa\\AutoRecist\\\\\")\n",
    "    pd_str_replace(df, ['Image File Path' , 'Contour File Path'] , \"/mnt/X-drive\", \"X:\")\n",
    "    pd_str_replace(df, ['Image File Path' , 'Contour File Path'] , \"/\", r\"\\\\\")\n",
    "    return df"
   ]
  },
  {
   "cell_type": "code",
   "execution_count": 3,
   "metadata": {
    "collapsed": true
   },
   "outputs": [],
   "source": [
    "CT_EXCEL_FILE = '/mnt/fast-data/mjc/AutoRECIST/Inputs/PDS_AMGEN_20020408_CIA-LAB_Image_And_Contour_2022-01-10.xlsx'\n",
    "AI_RAW_FILE = \"RawToWeasisUnionAIRadiologist_Amgen20020408.csv\"\n",
    "\n",
    "# CT_EXCEL_FILE = '/mnt/fast-data/mjc/AutoRECIST/Inputs/PDS_AUTO_RECIST CIA-LAB Image and Contour 2020-10-01.xlsx'\n",
    "# AI_RAW_FILE = 'RawToWeasisUnionAIRadiologist.csv'\n",
    "\n",
    "\n",
    "# CT_EXCEL_FILE ='/mnt/fast-data/mjc/AutoRECIST/Inputs/PDS New 1033 CUIMC cases 2021-12-22.xlsx'\n",
    "# AI_RAW_FILE = 'RawToWeasisUnionAIRadiologist_1033.csv'\n",
    "\n",
    "SAVE_PATH = '/mnt/fast-disk1/refine_gt/'\n",
    "\n",
    "import pandas as pd\n",
    "df_rad = pd.read_excel(CT_EXCEL_FILE)\n",
    "df_ai = pd.read_csv(AI_RAW_FILE)\n"
   ]
  },
  {
   "cell_type": "code",
   "execution_count": null,
   "metadata": {
    "collapsed": false
   },
   "outputs": [],
   "source": []
  },
  {
   "cell_type": "code",
   "execution_count": 4,
   "metadata": {
    "collapsed": true
   },
   "outputs": [],
   "source": [
    "df_ai2x = str_mnt2x(df_ai)"
   ]
  },
  {
   "cell_type": "code",
   "execution_count": 5,
   "metadata": {
    "collapsed": false
   },
   "outputs": [
    {
     "data": {
      "text/html": [
       "<div>\n",
       "<style scoped>\n",
       "    .dataframe tbody tr th:only-of-type {\n",
       "        vertical-align: middle;\n",
       "    }\n",
       "\n",
       "    .dataframe tbody tr th {\n",
       "        vertical-align: top;\n",
       "    }\n",
       "\n",
       "    .dataframe thead th {\n",
       "        text-align: right;\n",
       "    }\n",
       "</style>\n",
       "<table border=\"1\" class=\"dataframe\">\n",
       "  <thead>\n",
       "    <tr style=\"text-align: right;\">\n",
       "      <th></th>\n",
       "      <th>Image File Path</th>\n",
       "      <th>Contour File Path</th>\n",
       "      <th>Uni</th>\n",
       "    </tr>\n",
       "  </thead>\n",
       "  <tbody>\n",
       "    <tr>\n",
       "      <th>0</th>\n",
       "      <td>X:\\ClinicalTrials\\FNIH_VOLPACK\\AMGEN\\20020408\\...</td>\n",
       "      <td>X:\\Users\\JingchenMa\\AutoRecist\\RawToWeasis_Amg...</td>\n",
       "      <td>jm4669</td>\n",
       "    </tr>\n",
       "    <tr>\n",
       "      <th>1</th>\n",
       "      <td>X:\\ClinicalTrials\\FNIH_VOLPACK\\AMGEN\\20020408\\...</td>\n",
       "      <td>X:\\Users\\JingchenMa\\AutoRecist\\RawToWeasis_Amg...</td>\n",
       "      <td>jm4669</td>\n",
       "    </tr>\n",
       "    <tr>\n",
       "      <th>2</th>\n",
       "      <td>X:\\ClinicalTrials\\FNIH_VOLPACK\\AMGEN\\20020408\\...</td>\n",
       "      <td>X:\\Users\\JingchenMa\\AutoRecist\\RawToWeasis_Amg...</td>\n",
       "      <td>jm4669</td>\n",
       "    </tr>\n",
       "    <tr>\n",
       "      <th>3</th>\n",
       "      <td>X:\\ClinicalTrials\\FNIH_VOLPACK\\AMGEN\\20020408\\...</td>\n",
       "      <td>X:\\Users\\JingchenMa\\AutoRecist\\RawToWeasis_Amg...</td>\n",
       "      <td>jm4669</td>\n",
       "    </tr>\n",
       "    <tr>\n",
       "      <th>4</th>\n",
       "      <td>X:\\ClinicalTrials\\FNIH_VOLPACK\\AMGEN\\20020408\\...</td>\n",
       "      <td>X:\\Users\\JingchenMa\\AutoRecist\\RawToWeasis_Amg...</td>\n",
       "      <td>jm4669</td>\n",
       "    </tr>\n",
       "    <tr>\n",
       "      <th>...</th>\n",
       "      <td>...</td>\n",
       "      <td>...</td>\n",
       "      <td>...</td>\n",
       "    </tr>\n",
       "    <tr>\n",
       "      <th>1796</th>\n",
       "      <td>X:\\ClinicalTrials\\FNIH_VOLPACK\\AMGEN\\20020408\\...</td>\n",
       "      <td>X:\\Users\\JingchenMa\\AutoRecist\\RawToWeasis_Amg...</td>\n",
       "      <td>jm4669</td>\n",
       "    </tr>\n",
       "    <tr>\n",
       "      <th>1797</th>\n",
       "      <td>X:\\ClinicalTrials\\FNIH_VOLPACK\\AMGEN\\20020408\\...</td>\n",
       "      <td>X:\\Users\\JingchenMa\\AutoRecist\\RawToWeasis_Amg...</td>\n",
       "      <td>jm4669</td>\n",
       "    </tr>\n",
       "    <tr>\n",
       "      <th>1798</th>\n",
       "      <td>X:\\ClinicalTrials\\FNIH_VOLPACK\\AMGEN\\20020408\\...</td>\n",
       "      <td>X:\\Users\\JingchenMa\\AutoRecist\\RawToWeasis_Amg...</td>\n",
       "      <td>jm4669</td>\n",
       "    </tr>\n",
       "    <tr>\n",
       "      <th>1799</th>\n",
       "      <td>X:\\ClinicalTrials\\FNIH_VOLPACK\\AMGEN\\20020408\\...</td>\n",
       "      <td>X:\\Users\\JingchenMa\\AutoRecist\\RawToWeasis_Amg...</td>\n",
       "      <td>jm4669</td>\n",
       "    </tr>\n",
       "    <tr>\n",
       "      <th>1800</th>\n",
       "      <td>X:\\ClinicalTrials\\FNIH_VOLPACK\\AMGEN\\20020408\\...</td>\n",
       "      <td>X:\\Users\\JingchenMa\\AutoRecist\\RawToWeasis_Amg...</td>\n",
       "      <td>jm4669</td>\n",
       "    </tr>\n",
       "  </tbody>\n",
       "</table>\n",
       "<p>1801 rows × 3 columns</p>\n",
       "</div>"
      ],
      "text/plain": [
       "                                        Image File Path  \\\n",
       "0     X:\\ClinicalTrials\\FNIH_VOLPACK\\AMGEN\\20020408\\...   \n",
       "1     X:\\ClinicalTrials\\FNIH_VOLPACK\\AMGEN\\20020408\\...   \n",
       "2     X:\\ClinicalTrials\\FNIH_VOLPACK\\AMGEN\\20020408\\...   \n",
       "3     X:\\ClinicalTrials\\FNIH_VOLPACK\\AMGEN\\20020408\\...   \n",
       "4     X:\\ClinicalTrials\\FNIH_VOLPACK\\AMGEN\\20020408\\...   \n",
       "...                                                 ...   \n",
       "1796  X:\\ClinicalTrials\\FNIH_VOLPACK\\AMGEN\\20020408\\...   \n",
       "1797  X:\\ClinicalTrials\\FNIH_VOLPACK\\AMGEN\\20020408\\...   \n",
       "1798  X:\\ClinicalTrials\\FNIH_VOLPACK\\AMGEN\\20020408\\...   \n",
       "1799  X:\\ClinicalTrials\\FNIH_VOLPACK\\AMGEN\\20020408\\...   \n",
       "1800  X:\\ClinicalTrials\\FNIH_VOLPACK\\AMGEN\\20020408\\...   \n",
       "\n",
       "                                      Contour File Path     Uni  \n",
       "0     X:\\Users\\JingchenMa\\AutoRecist\\RawToWeasis_Amg...  jm4669  \n",
       "1     X:\\Users\\JingchenMa\\AutoRecist\\RawToWeasis_Amg...  jm4669  \n",
       "2     X:\\Users\\JingchenMa\\AutoRecist\\RawToWeasis_Amg...  jm4669  \n",
       "3     X:\\Users\\JingchenMa\\AutoRecist\\RawToWeasis_Amg...  jm4669  \n",
       "4     X:\\Users\\JingchenMa\\AutoRecist\\RawToWeasis_Amg...  jm4669  \n",
       "...                                                 ...     ...  \n",
       "1796  X:\\Users\\JingchenMa\\AutoRecist\\RawToWeasis_Amg...  jm4669  \n",
       "1797  X:\\Users\\JingchenMa\\AutoRecist\\RawToWeasis_Amg...  jm4669  \n",
       "1798  X:\\Users\\JingchenMa\\AutoRecist\\RawToWeasis_Amg...  jm4669  \n",
       "1799  X:\\Users\\JingchenMa\\AutoRecist\\RawToWeasis_Amg...  jm4669  \n",
       "1800  X:\\Users\\JingchenMa\\AutoRecist\\RawToWeasis_Amg...  jm4669  \n",
       "\n",
       "[1801 rows x 3 columns]"
      ]
     },
     "execution_count": 5,
     "metadata": {},
     "output_type": "execute_result"
    }
   ],
   "source": [
    "df_ai2x"
   ]
  },
  {
   "cell_type": "code",
   "execution_count": null,
   "metadata": {
    "collapsed": true
   },
   "outputs": [],
   "source": []
  },
  {
   "cell_type": "code",
   "execution_count": null,
   "metadata": {
    "collapsed": false
   },
   "outputs": [],
   "source": []
  },
  {
   "cell_type": "code",
   "execution_count": null,
   "metadata": {
    "collapsed": false
   },
   "outputs": [],
   "source": []
  },
  {
   "cell_type": "code",
   "execution_count": 6,
   "metadata": {
    "collapsed": false
   },
   "outputs": [],
   "source": [
    "res = pd.merge(df_rad, df_ai2x, on=\"Image File Path\", how=\"left\", indicator=\"indicator_column\")\n"
   ]
  },
  {
   "cell_type": "code",
   "execution_count": 7,
   "metadata": {
    "collapsed": false
   },
   "outputs": [],
   "source": [
    "df_noai = res[res.indicator_column.isin(['left_only','right_only']) & res.Location.isin(['liver'])]"
   ]
  },
  {
   "cell_type": "code",
   "execution_count": 8,
   "metadata": {
    "collapsed": false
   },
   "outputs": [],
   "source": [
    "df_noai = df_noai.rename(columns={\"Contour File Path_x\":\"Contour File Path\" , \"User ID\":\"Uni\"})\n",
    "df_concat = pd.concat([df_ai2x , df_noai] , join='inner')"
   ]
  },
  {
   "cell_type": "code",
   "execution_count": 9,
   "metadata": {
    "collapsed": false
   },
   "outputs": [
    {
     "data": {
      "text/html": [
       "<div>\n",
       "<style scoped>\n",
       "    .dataframe tbody tr th:only-of-type {\n",
       "        vertical-align: middle;\n",
       "    }\n",
       "\n",
       "    .dataframe tbody tr th {\n",
       "        vertical-align: top;\n",
       "    }\n",
       "\n",
       "    .dataframe thead th {\n",
       "        text-align: right;\n",
       "    }\n",
       "</style>\n",
       "<table border=\"1\" class=\"dataframe\">\n",
       "  <thead>\n",
       "    <tr style=\"text-align: right;\">\n",
       "      <th></th>\n",
       "      <th>PatientID</th>\n",
       "      <th>PatientName</th>\n",
       "      <th>StudyDate</th>\n",
       "      <th>Uni</th>\n",
       "      <th>Tumor QA State</th>\n",
       "      <th>Tumor Label</th>\n",
       "      <th>Location</th>\n",
       "      <th>Uni_x</th>\n",
       "      <th>Perp</th>\n",
       "      <th>Bi</th>\n",
       "      <th>Volume</th>\n",
       "      <th>Update Date Time</th>\n",
       "      <th>Raw File Name</th>\n",
       "      <th>Tumor Instance UID</th>\n",
       "      <th>Image File Path</th>\n",
       "      <th>Contour File Path</th>\n",
       "      <th>Contour File Path_y</th>\n",
       "      <th>Uni_y</th>\n",
       "      <th>indicator_column</th>\n",
       "    </tr>\n",
       "  </thead>\n",
       "  <tbody>\n",
       "  </tbody>\n",
       "</table>\n",
       "</div>"
      ],
      "text/plain": [
       "Empty DataFrame\n",
       "Columns: [PatientID, PatientName, StudyDate, Uni, Tumor QA State, Tumor Label, Location, Uni_x, Perp, Bi, Volume, Update Date Time, Raw File Name, Tumor Instance UID, Image File Path, Contour File Path, Contour File Path_y, Uni_y, indicator_column]\n",
       "Index: []"
      ]
     },
     "execution_count": 9,
     "metadata": {},
     "output_type": "execute_result"
    }
   ],
   "source": [
    "df_noai"
   ]
  },
  {
   "cell_type": "code",
   "execution_count": 10,
   "metadata": {
    "collapsed": false
   },
   "outputs": [
    {
     "data": {
      "text/html": [
       "<div>\n",
       "<style scoped>\n",
       "    .dataframe tbody tr th:only-of-type {\n",
       "        vertical-align: middle;\n",
       "    }\n",
       "\n",
       "    .dataframe tbody tr th {\n",
       "        vertical-align: top;\n",
       "    }\n",
       "\n",
       "    .dataframe thead th {\n",
       "        text-align: right;\n",
       "    }\n",
       "</style>\n",
       "<table border=\"1\" class=\"dataframe\">\n",
       "  <thead>\n",
       "    <tr style=\"text-align: right;\">\n",
       "      <th></th>\n",
       "      <th>Image File Path</th>\n",
       "      <th>Contour File Path</th>\n",
       "      <th>Uni</th>\n",
       "    </tr>\n",
       "  </thead>\n",
       "  <tbody>\n",
       "    <tr>\n",
       "      <th>0</th>\n",
       "      <td>X:\\ClinicalTrials\\FNIH_VOLPACK\\AMGEN\\20020408\\...</td>\n",
       "      <td>X:\\Users\\JingchenMa\\AutoRecist\\RawToWeasis_Amg...</td>\n",
       "      <td>jm4669</td>\n",
       "    </tr>\n",
       "    <tr>\n",
       "      <th>1</th>\n",
       "      <td>X:\\ClinicalTrials\\FNIH_VOLPACK\\AMGEN\\20020408\\...</td>\n",
       "      <td>X:\\Users\\JingchenMa\\AutoRecist\\RawToWeasis_Amg...</td>\n",
       "      <td>jm4669</td>\n",
       "    </tr>\n",
       "    <tr>\n",
       "      <th>2</th>\n",
       "      <td>X:\\ClinicalTrials\\FNIH_VOLPACK\\AMGEN\\20020408\\...</td>\n",
       "      <td>X:\\Users\\JingchenMa\\AutoRecist\\RawToWeasis_Amg...</td>\n",
       "      <td>jm4669</td>\n",
       "    </tr>\n",
       "    <tr>\n",
       "      <th>3</th>\n",
       "      <td>X:\\ClinicalTrials\\FNIH_VOLPACK\\AMGEN\\20020408\\...</td>\n",
       "      <td>X:\\Users\\JingchenMa\\AutoRecist\\RawToWeasis_Amg...</td>\n",
       "      <td>jm4669</td>\n",
       "    </tr>\n",
       "    <tr>\n",
       "      <th>4</th>\n",
       "      <td>X:\\ClinicalTrials\\FNIH_VOLPACK\\AMGEN\\20020408\\...</td>\n",
       "      <td>X:\\Users\\JingchenMa\\AutoRecist\\RawToWeasis_Amg...</td>\n",
       "      <td>jm4669</td>\n",
       "    </tr>\n",
       "    <tr>\n",
       "      <th>...</th>\n",
       "      <td>...</td>\n",
       "      <td>...</td>\n",
       "      <td>...</td>\n",
       "    </tr>\n",
       "    <tr>\n",
       "      <th>1796</th>\n",
       "      <td>X:\\ClinicalTrials\\FNIH_VOLPACK\\AMGEN\\20020408\\...</td>\n",
       "      <td>X:\\Users\\JingchenMa\\AutoRecist\\RawToWeasis_Amg...</td>\n",
       "      <td>jm4669</td>\n",
       "    </tr>\n",
       "    <tr>\n",
       "      <th>1797</th>\n",
       "      <td>X:\\ClinicalTrials\\FNIH_VOLPACK\\AMGEN\\20020408\\...</td>\n",
       "      <td>X:\\Users\\JingchenMa\\AutoRecist\\RawToWeasis_Amg...</td>\n",
       "      <td>jm4669</td>\n",
       "    </tr>\n",
       "    <tr>\n",
       "      <th>1798</th>\n",
       "      <td>X:\\ClinicalTrials\\FNIH_VOLPACK\\AMGEN\\20020408\\...</td>\n",
       "      <td>X:\\Users\\JingchenMa\\AutoRecist\\RawToWeasis_Amg...</td>\n",
       "      <td>jm4669</td>\n",
       "    </tr>\n",
       "    <tr>\n",
       "      <th>1799</th>\n",
       "      <td>X:\\ClinicalTrials\\FNIH_VOLPACK\\AMGEN\\20020408\\...</td>\n",
       "      <td>X:\\Users\\JingchenMa\\AutoRecist\\RawToWeasis_Amg...</td>\n",
       "      <td>jm4669</td>\n",
       "    </tr>\n",
       "    <tr>\n",
       "      <th>1800</th>\n",
       "      <td>X:\\ClinicalTrials\\FNIH_VOLPACK\\AMGEN\\20020408\\...</td>\n",
       "      <td>X:\\Users\\JingchenMa\\AutoRecist\\RawToWeasis_Amg...</td>\n",
       "      <td>jm4669</td>\n",
       "    </tr>\n",
       "  </tbody>\n",
       "</table>\n",
       "<p>1801 rows × 3 columns</p>\n",
       "</div>"
      ],
      "text/plain": [
       "                                        Image File Path  \\\n",
       "0     X:\\ClinicalTrials\\FNIH_VOLPACK\\AMGEN\\20020408\\...   \n",
       "1     X:\\ClinicalTrials\\FNIH_VOLPACK\\AMGEN\\20020408\\...   \n",
       "2     X:\\ClinicalTrials\\FNIH_VOLPACK\\AMGEN\\20020408\\...   \n",
       "3     X:\\ClinicalTrials\\FNIH_VOLPACK\\AMGEN\\20020408\\...   \n",
       "4     X:\\ClinicalTrials\\FNIH_VOLPACK\\AMGEN\\20020408\\...   \n",
       "...                                                 ...   \n",
       "1796  X:\\ClinicalTrials\\FNIH_VOLPACK\\AMGEN\\20020408\\...   \n",
       "1797  X:\\ClinicalTrials\\FNIH_VOLPACK\\AMGEN\\20020408\\...   \n",
       "1798  X:\\ClinicalTrials\\FNIH_VOLPACK\\AMGEN\\20020408\\...   \n",
       "1799  X:\\ClinicalTrials\\FNIH_VOLPACK\\AMGEN\\20020408\\...   \n",
       "1800  X:\\ClinicalTrials\\FNIH_VOLPACK\\AMGEN\\20020408\\...   \n",
       "\n",
       "                                      Contour File Path     Uni  \n",
       "0     X:\\Users\\JingchenMa\\AutoRecist\\RawToWeasis_Amg...  jm4669  \n",
       "1     X:\\Users\\JingchenMa\\AutoRecist\\RawToWeasis_Amg...  jm4669  \n",
       "2     X:\\Users\\JingchenMa\\AutoRecist\\RawToWeasis_Amg...  jm4669  \n",
       "3     X:\\Users\\JingchenMa\\AutoRecist\\RawToWeasis_Amg...  jm4669  \n",
       "4     X:\\Users\\JingchenMa\\AutoRecist\\RawToWeasis_Amg...  jm4669  \n",
       "...                                                 ...     ...  \n",
       "1796  X:\\Users\\JingchenMa\\AutoRecist\\RawToWeasis_Amg...  jm4669  \n",
       "1797  X:\\Users\\JingchenMa\\AutoRecist\\RawToWeasis_Amg...  jm4669  \n",
       "1798  X:\\Users\\JingchenMa\\AutoRecist\\RawToWeasis_Amg...  jm4669  \n",
       "1799  X:\\Users\\JingchenMa\\AutoRecist\\RawToWeasis_Amg...  jm4669  \n",
       "1800  X:\\Users\\JingchenMa\\AutoRecist\\RawToWeasis_Amg...  jm4669  \n",
       "\n",
       "[1801 rows x 3 columns]"
      ]
     },
     "execution_count": 10,
     "metadata": {},
     "output_type": "execute_result"
    }
   ],
   "source": [
    "df_concat"
   ]
  },
  {
   "cell_type": "code",
   "execution_count": 11,
   "metadata": {
    "collapsed": false
   },
   "outputs": [],
   "source": [
    "df_concat.to_csv('RawToWeasisUnionAIRadiologist_AmgenatXdrive.csv' , index=False)"
   ]
  },
  {
   "cell_type": "code",
   "execution_count": null,
   "metadata": {
    "collapsed": true
   },
   "outputs": [],
   "source": [
    "def display(df):\n",
    "    for col in df.columns.tolist():\n",
    "        print(col , len(set(df[col].tolist() )) ,\"/\" ,len(df[col].tolist()) )"
   ]
  },
  {
   "cell_type": "code",
   "execution_count": 13,
   "metadata": {
    "collapsed": false
   },
   "outputs": [
    {
     "name": "stdout",
     "output_type": "stream",
     "text": [
      "Image File Path 326 / 1801\n",
      "Contour File Path 1801 / 1801\n",
      "Uni 1 / 1801\n"
     ]
    }
   ],
   "source": [
    "display(df_concat)"
   ]
  },
  {
   "cell_type": "code",
   "execution_count": 15,
   "metadata": {
    "collapsed": false
   },
   "outputs": [
    {
     "name": "stdout",
     "output_type": "stream",
     "text": [
      "RawToWeasisUnionAIRadiologist_1033atXdrive.csv\r\n",
      "RawToWeasisUnionAIRadiologist_299atXdrive.csv\r\n",
      "RawToWeasisUnionAIRadiologist_AmgenatXdrive.csv\r\n"
     ]
    }
   ],
   "source": [
    "! ls *Xdrive.csv"
   ]
  },
  {
   "cell_type": "code",
   "execution_count": 17,
   "metadata": {
    "collapsed": false
   },
   "outputs": [
    {
     "name": "stdout",
     "output_type": "stream",
     "text": [
      "RawToWeasisUnionAIRadiologist_1033atXdrive.csv\n",
      "Image File Path 896 / 3675\n",
      "Contour File Path 3675 / 3675\n",
      "Uni 2 / 3675\n",
      "RawToWeasisUnionAIRadiologist_299atXdrive.csv\n",
      "Image File Path 170 / 723\n",
      "Contour File Path 723 / 723\n",
      "Uni 1 / 723\n",
      "RawToWeasisUnionAIRadiologist_AmgenatXdrive.csv\n",
      "Image File Path 326 / 1801\n",
      "Contour File Path 1801 / 1801\n",
      "Uni 1 / 1801\n"
     ]
    }
   ],
   "source": [
    "files = [\n",
    "\"RawToWeasisUnionAIRadiologist_1033atXdrive.csv\",\n",
    "\"RawToWeasisUnionAIRadiologist_299atXdrive.csv\",\n",
    "\"RawToWeasisUnionAIRadiologist_AmgenatXdrive.csv\",]\n",
    "\n",
    "for f in files:\n",
    "    df = pd.read_csv(f)\n",
    "    print(f)\n",
    "    display(df)"
   ]
  },
  {
   "cell_type": "code",
   "execution_count": 12,
   "metadata": {
    "collapsed": true
   },
   "outputs": [],
   "source": []
  }
 ],
 "metadata": {
  "kernelspec": {
   "display_name": "Environment (conda_scalenas)",
   "language": "python",
   "name": "conda_scalenas"
  },
  "language_info": {
   "codemirror_mode": {
    "name": "ipython",
    "version": 3
   },
   "file_extension": ".py",
   "mimetype": "text/x-python",
   "name": "python",
   "nbconvert_exporter": "python",
   "pygments_lexer": "ipython3",
   "version": "3.6.13"
  }
 },
 "nbformat": 4,
 "nbformat_minor": 2
}
