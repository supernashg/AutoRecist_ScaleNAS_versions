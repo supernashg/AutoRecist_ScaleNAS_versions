{
 "cells": [
  {
   "cell_type": "code",
   "execution_count": 1,
   "metadata": {
    "collapsed": false
   },
   "outputs": [],
   "source": [
    "%reload_ext autoreload\n",
    "%autoreload 2\n",
    "\n",
    "# ------------------------------------------------------------------------------\n",
    "# Licensed under the MIT License.\n",
    "# ------------------------------------------------------------------------------\n",
    "\n",
    "import argparse\n",
    "import os\n",
    "\n",
    "import logging\n",
    "import numpy as np\n",
    "\n",
    "import torch\n",
    "import torch.nn as nn\n",
    "import torch.backends.cudnn as cudnn\n",
    "from tensorboardX import SummaryWriter\n",
    "\n",
    "import _init_paths\n",
    "import models\n",
    "import dataset\n",
    "from config import cfg\n",
    "from config import update_config\n",
    "from core.seg_function import validate_seg_wo_loss as validate\n",
    "from core.oneshot_function import calib_bn_seg as calib_bn\n",
    "from utils.utils import get_model_summary\n",
    "from utils.utils import create_logger, FullModel\n",
    "\n",
    "\n",
    "def parse_args(l):\n",
    "    parser = argparse.ArgumentParser(description='Test segmentation network')\n",
    "\n",
    "    parser.add_argument('--cfg',\n",
    "                        help='experiment configure file name',\n",
    "                        required=True,\n",
    "                        type=str)\n",
    "    parser.add_argument('opts',\n",
    "                        help=\"Modify config options using the command-line\",\n",
    "                        default=None,\n",
    "                        nargs=argparse.REMAINDER)\n",
    "    parser.add_argument('--bn_calib',\n",
    "                        action='store_true')\n",
    "    parser.add_argument('--mask_path',\n",
    "                        help='the path of a mask.npy',\n",
    "                        default=None,\n",
    "                        type=str)\n",
    "    args = parser.parse_args(l)\n",
    "    update_config(cfg, args)\n",
    "\n",
    "    return args"
   ]
  },
  {
   "cell_type": "code",
   "execution_count": 2,
   "metadata": {
    "collapsed": true
   },
   "outputs": [],
   "source": [
    "arglist = ['--cfg', '../experiments/lesion/Lesion_superscalenet_seg_w32_oneshot_train.yaml' ,  \n",
    "           '--bn_calib',\n",
    "          'DATASET.ROOT','../data/']\n",
    "\n",
    "\n",
    "args = parse_args(arglist)"
   ]
  },
  {
   "cell_type": "code",
   "execution_count": 3,
   "metadata": {
    "collapsed": false
   },
   "outputs": [
    {
     "name": "stdout",
     "output_type": "stream",
     "text": [
      "=> creating output/Lesion/superscalenet_seg/Lesion_superscalenet_seg_w32_oneshot_train/data_patch_test\n",
      "=> creating log/Lesion/superscalenet_seg/data_patch_test/Lesion_superscalenet_seg_w32_oneshot_train_2021-05-28-18-54\n"
     ]
    }
   ],
   "source": [
    "logger, final_output_dir, tb_log_dir = create_logger(\n",
    "    cfg, args.cfg, 'test')\n",
    "\n",
    "writer_dict = {\n",
    "    'writer': SummaryWriter(tb_log_dir),\n",
    "    'train_global_steps': 0,\n",
    "    'valid_global_steps': 0,\n",
    "}\n",
    "# cudnn related setting\n",
    "cudnn.benchmark = cfg.CUDNN.BENCHMARK\n",
    "cudnn.deterministic = cfg.CUDNN.DETERMINISTIC\n",
    "cudnn.enabled = cfg.CUDNN.ENABLED\n",
    "\n",
    "# # build model\n",
    "# model = eval('models.' + cfg.MODEL.NAME +\n",
    "#              '.get_seg_model')(cfg)\n",
    "\n",
    "# input_shape = (1, 3, cfg.TEST.IMAGE_SIZE[1], cfg.TEST.IMAGE_SIZE[0])\n",
    "\n",
    "# dump_input = torch.rand(\n",
    "#     (1, 3, cfg.TEST.IMAGE_SIZE[1], cfg.TEST.IMAGE_SIZE[0])\n",
    "# )\n",
    "\n",
    "# if cfg.TEST.MODEL_FILE:\n",
    "#     model_state_file = cfg.TEST.MODEL_FILE\n",
    "# else:\n",
    "#     model_state_file = os.path.join(final_output_dir,\n",
    "#                                     'final_state.pth')\n",
    "# logger.info('=> loading model from {}'.format(model_state_file))\n",
    "\n",
    "# pretrained_dict = torch.load(model_state_file)\n",
    "# model_dict = model.state_dict()\n",
    "\n",
    "# model_keys = set(model_dict.keys())\n",
    "# pretrained_keys = set(pretrained_dict.keys())\n",
    "# missing_keys = model_keys - pretrained_keys\n",
    "# logger.warn('Missing keys in pretrained_dict: {}'.format(missing_keys))\n",
    "\n",
    "# model_dict.update(pretrained_dict)\n",
    "# model.load_state_dict(model_dict, strict=False)\n",
    "\n",
    "\n",
    "# prepare data\n",
    "test_size = (cfg.TEST.IMAGE_SIZE[1], cfg.TEST.IMAGE_SIZE[0])"
   ]
  },
  {
   "cell_type": "code",
   "execution_count": null,
   "metadata": {
    "collapsed": false,
    "scrolled": false
   },
   "outputs": [],
   "source": []
  },
  {
   "cell_type": "code",
   "execution_count": null,
   "metadata": {
    "collapsed": false
   },
   "outputs": [],
   "source": []
  },
  {
   "cell_type": "code",
   "execution_count": null,
   "metadata": {
    "collapsed": false
   },
   "outputs": [],
   "source": []
  },
  {
   "cell_type": "code",
   "execution_count": null,
   "metadata": {
    "collapsed": false
   },
   "outputs": [],
   "source": []
  },
  {
   "cell_type": "code",
   "execution_count": null,
   "metadata": {
    "collapsed": false
   },
   "outputs": [],
   "source": []
  },
  {
   "cell_type": "code",
   "execution_count": null,
   "metadata": {
    "collapsed": false
   },
   "outputs": [],
   "source": []
  },
  {
   "cell_type": "code",
   "execution_count": 4,
   "metadata": {
    "collapsed": false
   },
   "outputs": [
    {
     "name": "stdout",
     "output_type": "stream",
     "text": [
      "loading annotations into memory...\n",
      "Done (t=6.98s)\n",
      "creating index...\n",
      "index created!\n"
     ]
    },
    {
     "name": "stderr",
     "output_type": "stream",
     "text": [
      "Loading cached gt_roidb from /mnt/fast-data/mjc/AutoRECIST/Codes/ScaleNAS/ScaleNASv1/tools/cache/PDS_Q2_A&C_22Cat_train_gt_roidb.pkl\n",
      "Appending horizontally-flipped training examples...\n"
     ]
    },
    {
     "name": "stdout",
     "output_type": "stream",
     "text": [
      "1 109487\n"
     ]
    },
    {
     "name": "stderr",
     "output_type": "stream",
     "text": [
      "Loaded dataset: PDS_Q2_A&C_22Cat_train\n"
     ]
    },
    {
     "name": "stdout",
     "output_type": "stream",
     "text": [
      "2 218974\n"
     ]
    },
    {
     "name": "stderr",
     "output_type": "stream",
     "text": [
      "Filtered 8 roidb entries: 218974 -> 218966\n",
      "Computing image aspect ratios and ordering the ratios...\n",
      "done\n",
      "Computing bounding-box regression targets...\n",
      "done\n"
     ]
    },
    {
     "name": "stdout",
     "output_type": "stream",
     "text": [
      "4 218966\n"
     ]
    }
   ],
   "source": [
    "\n",
    "from dataset.roidb import combined_roidb_for_training\n",
    "from roi_data.loader import RoiDataLoader, MinibatchSampler, BatchSampler, collate_minibatch\n",
    "\n",
    "roidb, ratio_list, ratio_index = combined_roidb_for_training(\n",
    "        cfg.TRAIN.DATASETS, cfg.TRAIN.PROPOSAL_FILES)"
   ]
  },
  {
   "cell_type": "code",
   "execution_count": 5,
   "metadata": {
    "collapsed": false
   },
   "outputs": [
    {
     "data": {
      "text/plain": [
       "('PDS_AMGEN_20020408_22Cat_test',)"
      ]
     },
     "execution_count": 5,
     "metadata": {},
     "output_type": "execute_result"
    }
   ],
   "source": [
    "cfg.VAL.DATASETS"
   ]
  },
  {
   "cell_type": "code",
   "execution_count": 6,
   "metadata": {
    "collapsed": false
   },
   "outputs": [
    {
     "data": {
      "text/plain": [
       "array([     0, 145972, 145973, ...,  72993,  72995, 218965])"
      ]
     },
     "execution_count": 6,
     "metadata": {},
     "output_type": "execute_result"
    }
   ],
   "source": [
    "ratio_index"
   ]
  },
  {
   "cell_type": "code",
   "execution_count": 7,
   "metadata": {
    "collapsed": false
   },
   "outputs": [
    {
     "data": {
      "text/plain": [
       "{'height': 512,\n",
       " 'id': 13,\n",
       " 'slice_intv': 5.0,\n",
       " 'slice_no': 25,\n",
       " 'spacing': 0.837891,\n",
       " 'width': 512,\n",
       " 'windows': [-160, 240],\n",
       " 'z_position': 0.46954501668612164,\n",
       " 'dataset': <dataset.json_dataset.JsonDataset at 0x7f189ed25358>,\n",
       " 'image': '/mnt/fast-disk1/mjc/AutoRecist/Pngs/PDS_AUTO_RECIST/METNET0303/D2019_11_11/E7419/CT/S0007_4231/025.png',\n",
       " 'flipped': False,\n",
       " 'z_flipped': False,\n",
       " 'has_visible_keypoints': False,\n",
       " 'boxes': array([[283., 192., 295., 202.]], dtype=float32),\n",
       " 'segms': [[[284,\n",
       "    192,\n",
       "    284,\n",
       "    194,\n",
       "    283,\n",
       "    195,\n",
       "    283,\n",
       "    199,\n",
       "    284,\n",
       "    200,\n",
       "    284,\n",
       "    201,\n",
       "    285,\n",
       "    201,\n",
       "    286,\n",
       "    202,\n",
       "    291,\n",
       "    202,\n",
       "    293,\n",
       "    200,\n",
       "    294,\n",
       "    200,\n",
       "    294,\n",
       "    199,\n",
       "    295,\n",
       "    198,\n",
       "    295,\n",
       "    195,\n",
       "    294,\n",
       "    195,\n",
       "    293,\n",
       "    194,\n",
       "    291,\n",
       "    194,\n",
       "    290,\n",
       "    193,\n",
       "    287,\n",
       "    193,\n",
       "    286,\n",
       "    192]]],\n",
       " 'gt_classes': array([8], dtype=int32),\n",
       " 'seg_areas': array([91.], dtype=float32),\n",
       " 'gt_overlaps': <1x22 sparse matrix of type '<class 'numpy.float32'>'\n",
       " \twith 1 stored elements in Compressed Sparse Row format>,\n",
       " 'is_crowd': array([False]),\n",
       " 'box_to_gt_ind_map': array([0], dtype=int32),\n",
       " 'max_classes': array([8]),\n",
       " 'max_overlaps': array([1.], dtype=float32),\n",
       " 'need_crop': False,\n",
       " 'bbox_targets': array([[8., 0., 0., 0., 0.]], dtype=float32)}"
      ]
     },
     "execution_count": 7,
     "metadata": {},
     "output_type": "execute_result"
    }
   ],
   "source": [
    "roidb[12]"
   ]
  },
  {
   "cell_type": "code",
   "execution_count": 8,
   "metadata": {
    "collapsed": false
   },
   "outputs": [],
   "source": [
    "\n",
    "dataset = RoiDataLoader(\n",
    "    roidb,\n",
    "    cfg.MODEL.NUM_CLASSES,\n",
    "    training=True)\n",
    "\n",
    "dataloader = torch.utils.data.DataLoader(\n",
    "    dataset,\n",
    "    batch_size=4,\n",
    "    num_workers=cfg.WORKERS)\n",
    "\n",
    "dataiterator = iter(dataloader)\n"
   ]
  },
  {
   "cell_type": "code",
   "execution_count": null,
   "metadata": {
    "collapsed": true
   },
   "outputs": [],
   "source": [
    "\n",
    "dataset = RoiDataLoader(\n",
    "    roidb,\n",
    "    cfg.MODEL.NUM_CLASSES,\n",
    "    training=True)\n",
    "\n",
    "from torch.utils.data.distributed import DistributedSampler\n",
    "train_sampler = DistributedSampler(dataset)\n",
    "dataloader = torch.utils.data.DataLoader(\n",
    "    dataset,\n",
    "    batch_size=4,\n",
    "    num_workers=cfg.WORKERS,\n",
    "    sampler=train_sampler)\n",
    "\n",
    "dataiterator = iter(dataloader)\n",
    "\n"
   ]
  },
  {
   "cell_type": "code",
   "execution_count": null,
   "metadata": {
    "collapsed": false
   },
   "outputs": [],
   "source": [
    "print( dataset.__len__() )\n",
    "print( len(dataloader) )"
   ]
  },
  {
   "cell_type": "code",
   "execution_count": 9,
   "metadata": {
    "collapsed": false
   },
   "outputs": [
    {
     "name": "stdout",
     "output_type": "stream",
     "text": [
      "('/mnt/fast-disk1/mjc/AutoRecist/Pngs/PDS_AUTO_RECIST/METNET0300/D2019_03_29/E6931/CT/S0002_1816/019.png', '/mnt/fast-disk1/mjc/AutoRecist/Pngs/PDS_AUTO_RECIST/METNET0300/D2019_03_29/E6931/CT/S0002_1816/020.png', '/mnt/fast-disk1/mjc/AutoRecist/Pngs/PDS_AUTO_RECIST/METNET0300/D2019_03_29/E6931/CT/S0002_1816/021.png', '/mnt/fast-disk1/mjc/AutoRecist/Pngs/PDS_AUTO_RECIST/METNET0301/D2019_11_05/E9722/CT/S0003_7293/036.png')\n"
     ]
    }
   ],
   "source": [
    "batch =  next(dataiterator)\n",
    "print(batch[-1])"
   ]
  },
  {
   "cell_type": "code",
   "execution_count": 11,
   "metadata": {
    "collapsed": false
   },
   "outputs": [
    {
     "name": "stdout",
     "output_type": "stream",
     "text": [
      "{9.0: 2363, 255.0: 1046213}\n",
      "{8.0: 751, 255.0: 1047825}\n",
      "{7.0: 425, 8.0: 926, 255.0: 1047225}\n",
      "{8.0: 4327, 255.0: 1044249}\n",
      "{7.0: 683, 8.0: 799, 255.0: 1047094}\n",
      "{8.0: 1826, 255.0: 1046750}\n",
      "{8.0: 4558, 255.0: 1044018}\n",
      "{8.0: 1245, 255.0: 1047331}\n",
      "{9.0: 1473, 255.0: 1047103}\n",
      "{8.0: 62, 9.0: 2009, 255.0: 1046505}\n",
      "{8.0: 226, 9.0: 111, 255.0: 1048239}\n",
      "{4.0: 340, 9.0: 142, 255.0: 1048094}\n",
      "{4.0: 300, 7.0: 14573, 255.0: 1033703}\n",
      "{7.0: 48165, 255.0: 1000411}\n",
      "{7.0: 69779, 255.0: 978797}\n",
      "{7.0: 70737, 255.0: 977839}\n",
      "{7.0: 61859, 255.0: 986717}\n",
      "{7.0: 40995, 255.0: 1007581}\n",
      "{7.0: 25075, 255.0: 1023501}\n",
      "{7.0: 11416, 255.0: 1037160}\n",
      "{7.0: 3154, 255.0: 1045422}\n",
      "{7.0: 1865, 9.0: 60, 255.0: 1046651}\n",
      "{17.0: 1998, 255.0: 1046578}\n",
      "{7.0: 761, 8.0: 46, 255.0: 1047769}\n",
      "{7.0: 1275, 255.0: 1047301}\n",
      "{8.0: 1635, 255.0: 1046941}\n",
      "{8.0: 859, 255.0: 1047717}\n",
      "{7.0: 202, 8.0: 87, 255.0: 1048287}\n",
      "{7.0: 697, 255.0: 1047879}\n",
      "{1.0: 1130, 14.0: 251, 255.0: 1047195}\n",
      "{9.0: 514, 14.0: 756, 255.0: 1047306}\n",
      "{9.0: 4068, 255.0: 1044508}\n",
      "{9.0: 4412, 255.0: 1044164}\n",
      "{8.0: 301, 9.0: 983, 255.0: 1047292}\n",
      "{8.0: 68, 18.0: 422, 255.0: 1048086}\n",
      "{18.0: 691, 255.0: 1047885}\n",
      "{8.0: 4329, 18.0: 108, 255.0: 1044139}\n",
      "{8.0: 8980, 255.0: 1039596}\n",
      "{8.0: 14827, 255.0: 1033749}\n",
      "{7.0: 2339, 8.0: 10905, 255.0: 1035332}\n",
      "{7.0: 685, 8.0: 2205, 255.0: 1045686}\n",
      "{1.0: 41635, 255.0: 1006941}\n",
      "{1.0: 74095, 255.0: 974481}\n",
      "{1.0: 85316, 255.0: 963260}\n",
      "{1.0: 88363, 255.0: 960213}\n",
      "{1.0: 83979, 255.0: 964597}\n",
      "{1.0: 71570, 255.0: 977006}\n",
      "{1.0: 42299, 255.0: 1006277}\n",
      "{1.0: 9330, 255.0: 1039246}\n",
      "{9.0: 4018, 255.0: 1044558}\n",
      "{8.0: 470, 9.0: 1637, 255.0: 1046469}\n",
      "{8.0: 2023, 255.0: 1046553}\n",
      "{8.0: 2329, 255.0: 1046247}\n",
      "{8.0: 1273, 255.0: 1047303}\n",
      "{8.0: 113, 15.0: 3229, 255.0: 1045234}\n",
      "{15.0: 15951, 255.0: 1032625}\n",
      "{7.0: 1107, 255.0: 1047469}\n",
      "{7.0: 223, 8.0: 1660, 255.0: 1046693}\n",
      "{8.0: 1743, 255.0: 1046833}\n",
      "{8.0: 766, 255.0: 1047810}\n",
      "{8.0: 374, 255.0: 1048202}\n",
      "{8.0: 948, 255.0: 1047628}\n",
      "{8.0: 1629, 255.0: 1046947}\n",
      "{8.0: 8663, 255.0: 1039913}\n",
      "{8.0: 13782, 255.0: 1034794}\n",
      "{8.0: 18280, 255.0: 1030296}\n",
      "{8.0: 13361, 255.0: 1035215}\n",
      "{8.0: 10538, 255.0: 1038038}\n",
      "{8.0: 5048, 255.0: 1043528}\n",
      "{8.0: 397, 9.0: 86, 255.0: 1048093}\n",
      "{9.0: 617, 255.0: 1047959}\n",
      "{7.0: 310, 9.0: 78, 255.0: 1048188}\n",
      "{7.0: 90, 8.0: 3987, 255.0: 1044499}\n",
      "{8.0: 6133, 255.0: 1042443}\n",
      "{7.0: 506, 8.0: 823, 255.0: 1047247}\n",
      "{1.0: 10874, 7.0: 164, 255.0: 1037538}\n",
      "{1.0: 29901, 255.0: 1018675}\n",
      "{1.0: 38716, 255.0: 1009860}\n",
      "{1.0: 31561, 255.0: 1017015}\n",
      "{1.0: 23611, 255.0: 1024965}\n",
      "{1.0: 4251, 7.0: 193, 255.0: 1044132}\n",
      "{7.0: 8312, 255.0: 1040264}\n",
      "{7.0: 3719, 255.0: 1044857}\n",
      "{15.0: 8999, 255.0: 1039577}\n",
      "{15.0: 16372, 255.0: 1032204}\n",
      "{15.0: 17355, 255.0: 1031221}\n",
      "{15.0: 15650, 255.0: 1032926}\n",
      "{15.0: 11690, 255.0: 1036886}\n",
      "{15.0: 6774, 255.0: 1041802}\n",
      "{7.0: 4828, 15.0: 532, 255.0: 1043216}\n",
      "{7.0: 10582, 255.0: 1037994}\n",
      "{7.0: 5574, 255.0: 1043002}\n",
      "{7.0: 10708, 255.0: 1037868}\n",
      "{7.0: 11419, 255.0: 1037157}\n",
      "{2.0: 438, 7.0: 2801, 255.0: 1045337}\n",
      "{2.0: 1725, 255.0: 1046851}\n",
      "{13.0: 2324, 255.0: 1046252}\n",
      "{7.0: 1851, 255.0: 1046725}\n",
      "{7.0: 5216, 255.0: 1043360}\n",
      "{7.0: 4963, 255.0: 1043613}\n",
      "{7.0: 3111, 255.0: 1045465}\n"
     ]
    }
   ],
   "source": [
    "a= []\n",
    "flag = False\n",
    "for i, batch in enumerate(dataiterator):\n",
    "    if i >100:\n",
    "        break\n",
    "    unique, counts = np.unique(batch[1], return_counts=True)\n",
    "    print(dict(zip(unique,counts)))\n",
    "    for o in unique:\n",
    "        if o>18 and o<255:\n",
    "            print(dict(zip(unique,counts)))\n",
    "            flag = True\n",
    "    if flag:\n",
    "        break\n",
    "            \n"
   ]
  },
  {
   "cell_type": "code",
   "execution_count": 10,
   "metadata": {
    "collapsed": false
   },
   "outputs": [
    {
     "name": "stdout",
     "output_type": "stream",
     "text": [
      "{18.0: 91, 255.0: 262053}\n",
      "{18.0: 256, 255.0: 261888}\n",
      "{18.0: 191, 255.0: 261953}\n",
      "{9.0: 474, 255.0: 261670}\n"
     ]
    }
   ],
   "source": [
    "for one in batch[1]:\n",
    "    unique, counts = np.unique(one, return_counts=True)\n",
    "    print(dict(zip(unique,counts)))"
   ]
  },
  {
   "cell_type": "code",
   "execution_count": 25,
   "metadata": {
    "collapsed": false
   },
   "outputs": [
    {
     "name": "stdout",
     "output_type": "stream",
     "text": [
      "Variable                      Type               Data/Info\n",
      "----------------------------------------------------------\n",
      "BatchSampler                  type               <class 'roi_data.loader.BatchSampler'>\n",
      "FullModel                     type               <class 'utils.utils.FullModel'>\n",
      "MinibatchSampler              type               <class 'roi_data.loader.MinibatchSampler'>\n",
      "RoiDataLoader                 type               <class 'roi_data.loader.RoiDataLoader'>\n",
      "SummaryWriter                 type               <class 'tensorboardX.writer.SummaryWriter'>\n",
      "a                             list               n=0\n",
      "arglist                       list               n=5\n",
      "argparse                      module             <module 'argparse' from '<...>b/python3.6/argparse.py'>\n",
      "args                          Namespace          Namespace(bn_calib=True, <...>TASET.ROOT', '../data/'])\n",
      "batch                         list               n=4\n",
      "calib_bn                      function           <function calib_bn_seg at 0x7f17220a6488>\n",
      "cfg                           CfgNode            AUTO_RESUME: False\\nA_HIS<...>[-1024, 3071]\\nWORKERS: 4\n",
      "collate_minibatch             function           <function collate_minibatch at 0x7f1720e0e510>\n",
      "combined_roidb_for_training   function           <function combined_roidb_<...>aining at 0x7f17220a6e18>\n",
      "counts                        ndarray            2: 2 elems, type `int64`, 16 bytes\n",
      "create_logger                 function           <function create_logger at 0x7f1731e52840>\n",
      "cudnn                         CudnnModule        <module 'torch.backends.c<...>kends/cudnn/__init__.py'>\n",
      "dataiterator                  _DataLoaderIter    <torch.utils.data.dataloa<...>object at 0x7f16dd87afd0>\n",
      "dataloader                    DataLoader         <torch.utils.data.dataloa<...>object at 0x7f16dad9c710>\n",
      "dataset                       RoiDataLoader      <roi_data.loader.RoiDataL<...>object at 0x7f16dad9c5c0>\n",
      "final_output_dir              str                output/Lesion/superscalen<...>hot_train/data_patch_test\n",
      "flag                          bool               False\n",
      "get_model_summary             function           <function get_model_summary at 0x7f1731e52ea0>\n",
      "i                             int                101\n",
      "im                            Tensor             tensor([[0., 0., 0.,  ...<...>.]], dtype=torch.float64)\n",
      "logger                        RootLogger         <RootLogger root (INFO)>\n",
      "logging                       module             <module 'logging' from '/<...>3.6/logging/__init__.py'>\n",
      "models                        module             <module 'models' from '/m<...>/lib/models/__init__.py'>\n",
      "nn                            module             <module 'torch.nn' from '<...>es/torch/nn/__init__.py'>\n",
      "np                            module             <module 'numpy' from '/mn<...>kages/numpy/__init__.py'>\n",
      "o                             float64            255.0\n",
      "one                           Tensor             tensor([[255., 255., 255.<...>.]], dtype=torch.float64)\n",
      "os                            module             <module 'os' from '/mnt/f<...>nas/lib/python3.6/os.py'>\n",
      "parse_args                    function           <function parse_args at 0x7f189917cd90>\n",
      "plt                           module             <module 'matplotlib.pyplo<...>es/matplotlib/pyplot.py'>\n",
      "ratio_index                   ndarray            218966: 218966 elems, type `int64`, 1751728 bytes (1.6705780029296875 Mb)\n",
      "ratio_list                    ndarray            218966: 218966 elems, type `float64`, 1751728 bytes (1.6705780029296875 Mb)\n",
      "roidb                         list               n=218966\n",
      "tb_log_dir                    str                log/Lesion/superscalenet_<...>ot_train_2021-05-28-18-54\n",
      "test_size                     tuple              n=2\n",
      "torch                         module             <module 'torch' from '/mn<...>kages/torch/__init__.py'>\n",
      "unique                        ndarray            2: 2 elems, type `float64`, 16 bytes\n",
      "update_config                 function           <function update_config at 0x7f1722511378>\n",
      "validate                      function           <function validate_seg_wo_loss at 0x7f17223b9730>\n",
      "writer_dict                   dict               n=3\n"
     ]
    }
   ],
   "source": [
    "whos"
   ]
  },
  {
   "cell_type": "code",
   "execution_count": null,
   "metadata": {
    "collapsed": false
   },
   "outputs": [],
   "source": [
    "for one in a:\n",
    "    for o in one:\n",
    "        if o<0 :\n",
    "            print (o)\n",
    "        if o>18 and o<255:\n",
    "            print(one)"
   ]
  },
  {
   "cell_type": "code",
   "execution_count": 31,
   "metadata": {
    "collapsed": false
   },
   "outputs": [
    {
     "data": {
      "text/plain": [
       "torch.float64"
      ]
     },
     "execution_count": 31,
     "metadata": {},
     "output_type": "execute_result"
    }
   ],
   "source": [
    "batch[1][0].dtype"
   ]
  },
  {
   "cell_type": "code",
   "execution_count": null,
   "metadata": {
    "collapsed": false
   },
   "outputs": [],
   "source": [
    "np.histogram(batch[1])"
   ]
  },
  {
   "cell_type": "code",
   "execution_count": null,
   "metadata": {
    "collapsed": false
   },
   "outputs": [],
   "source": [
    "unique, counts = np.unique(batch[1], return_counts=True)\n",
    "print( dict(zip(unique, counts)) )"
   ]
  },
  {
   "cell_type": "code",
   "execution_count": null,
   "metadata": {
    "collapsed": false
   },
   "outputs": [],
   "source": [
    "(4963+ 1043613)/512"
   ]
  },
  {
   "cell_type": "code",
   "execution_count": 21,
   "metadata": {
    "collapsed": false
   },
   "outputs": [
    {
     "data": {
      "text/plain": [
       "<matplotlib.image.AxesImage at 0x7f16c110b240>"
      ]
     },
     "execution_count": 21,
     "metadata": {},
     "output_type": "execute_result"
    },
    {
     "data": {
      "image/png": "[encoded data removed]",
      "text/plain": [
       "<Figure size 432x288 with 1 Axes>"
      ]
     },
     "metadata": {
      "needs_background": "light"
     },
     "output_type": "display_data"
    }
   ],
   "source": [
    "%matplotlib inline\n",
    "import matplotlib.pyplot as plt\n",
    "im=batch[1][0]\n",
    "im[im==255]=0\n",
    "plt.imshow(im,cmap='gray')"
   ]
  },
  {
   "cell_type": "code",
   "execution_count": null,
   "metadata": {
    "collapsed": false
   },
   "outputs": [],
   "source": [
    "print( im[280:290, 260:290] )"
   ]
  },
  {
   "cell_type": "code",
   "execution_count": null,
   "metadata": {
    "collapsed": false
   },
   "outputs": [],
   "source": [
    "plt.imshow(batch[0][1][14])"
   ]
  },
  {
   "cell_type": "code",
   "execution_count": 23,
   "metadata": {
    "collapsed": false
   },
   "outputs": [
    {
     "data": {
      "text/plain": [
       "<matplotlib.image.AxesImage at 0x7f16c101a390>"
      ]
     },
     "execution_count": 23,
     "metadata": {},
     "output_type": "execute_result"
    },
    {
     "data": {
      "image/png": "[encoded data removed]",
      "text/plain": [
       "<Figure size 432x288 with 1 Axes>"
      ]
     },
     "metadata": {
      "needs_background": "light"
     },
     "output_type": "display_data"
    }
   ],
   "source": [
    "plt.imshow(batch[0][0][2],cmap='gray')"
   ]
  },
  {
   "cell_type": "code",
   "execution_count": null,
   "metadata": {
    "collapsed": false
   },
   "outputs": [],
   "source": [
    "from skimage.transform import resize\n",
    "\n",
    "def compute_image_resize_params(data):\n",
    "    \"\"\"Compute median dimension of all images in data.\n",
    "\n",
    "    It used to resize the images later. Number of channels do not change from the original data.\n",
    "\n",
    "    Args:\n",
    "        data: a list of images.\n",
    "\n",
    "    Returns:\n",
    "        median shape.\n",
    "    \"\"\"\n",
    "    if data is None or len(data) == 0:\n",
    "        print('data is empty')\n",
    "        return []\n",
    "\n",
    "    data_shapes = []\n",
    "    for x in data:\n",
    "        data_shapes.append(x.shape)\n",
    "\n",
    "    median_shape = np.median(np.array(data_shapes), axis=0)\n",
    "    return tuple( median_shape.astype(int) )\n",
    "\n",
    "def smart_stack(in_list, *args, **kwargs):\n",
    "    \"\"\"\n",
    "    Use the first element to determine the size for all the results and resize the ones that dont match\n",
    "    \"\"\"\n",
    "    base_shape = compute_image_resize_params(in_list)\n",
    "    return np.stack([x if x.shape==base_shape else resize(x, base_shape, preserve_range=True) for x in in_list], *args, **kwargs)\n",
    "\n",
    "\n",
    "from skimage.util import montage\n"
   ]
  },
  {
   "cell_type": "code",
   "execution_count": null,
   "metadata": {
    "collapsed": false
   },
   "outputs": [],
   "source": []
  },
  {
   "cell_type": "code",
   "execution_count": null,
   "metadata": {
    "collapsed": false
   },
   "outputs": [],
   "source": [
    "contourList = [batch[1][i] for i in range(3)]\n",
    "all_contours = smart_stack(contourList)\n",
    "\n",
    "imageList = [batch[0][i][j] for i in range(3) for j in range(27)]\n",
    "all_lesions = smart_stack(imageList)"
   ]
  },
  {
   "cell_type": "code",
   "execution_count": null,
   "metadata": {
    "collapsed": false
   },
   "outputs": [],
   "source": [
    "whos"
   ]
  },
  {
   "cell_type": "code",
   "execution_count": null,
   "metadata": {
    "collapsed": false
   },
   "outputs": [],
   "source": [
    "fig, ax1 = plt.subplots(1, 1, figsize = (28, 23))\n",
    "ax1.imshow(montage(all_lesions), cmap = 'gray')\n",
    "fig.savefig('montage.png', dpi = 300)"
   ]
  },
  {
   "cell_type": "code",
   "execution_count": null,
   "metadata": {
    "collapsed": false
   },
   "outputs": [],
   "source": [
    "plt.imsave('1.png',montage(all_lesions))"
   ]
  },
  {
   "cell_type": "code",
   "execution_count": null,
   "metadata": {
    "collapsed": false
   },
   "outputs": [],
   "source": [
    "fig, ax1 = plt.subplots(1, 1, figsize = (28, 23))\n",
    "ax1.imshow(montage(all_contours), cmap = 'gray')"
   ]
  },
  {
   "cell_type": "code",
   "execution_count": null,
   "metadata": {
    "collapsed": true
   },
   "outputs": [],
   "source": []
  },
  {
   "cell_type": "code",
   "execution_count": null,
   "metadata": {
    "collapsed": false
   },
   "outputs": [],
   "source": [
    "import utils.blob as blob_utils\n",
    "roidb = blob_utils.deserialize(batch['roidb'][0][0])"
   ]
  },
  {
   "cell_type": "code",
   "execution_count": null,
   "metadata": {
    "collapsed": false
   },
   "outputs": [],
   "source": [
    "roidb"
   ]
  },
  {
   "cell_type": "code",
   "execution_count": null,
   "metadata": {
    "collapsed": true
   },
   "outputs": [],
   "source": [
    "import pycocotools.mask as mask_util\n",
    "def polys_to_mask(polygons, height, width):\n",
    "    \"\"\"\n",
    "    Convert from the COCO polygon segmentation format to a binary mask\n",
    "    encoded as a 2D array of data type numpy.float32. The polygon segmentation\n",
    "    is understood to be enclosed inside a height x width image. The resulting\n",
    "    mask is therefore of shape (height, width).\n",
    "    \"\"\"\n",
    "    rle = mask_util.frPyObjects(polygons, height, width)\n",
    "    mask = np.array(mask_util.decode(rle), dtype=np.float32)\n",
    "    # Flatten in case polygons was a list\n",
    "    mask = np.sum(mask, axis=2)\n",
    "    mask = np.array(mask > 0, dtype=np.float32)\n",
    "    return mask\n",
    "\n",
    "\n",
    "ix = [a for a,b in enumerate(aroidb['gt_classes']) if int(b) in site_list]\n",
    "contours = [ aroidb['segms'][int(kk)] for kk in ix ]\n",
    "if not contours:\n",
    "    continue\n",
    "\n",
    "for c in contours:\n",
    "    if len(c): #gt\n",
    "        vol_gt[D_z_index[s]] = polys_to_mask(c , height , width) "
   ]
  },
  {
   "cell_type": "code",
   "execution_count": null,
   "metadata": {
    "collapsed": false
   },
   "outputs": [],
   "source": [
    "roidb[0]['gt_classes']"
   ]
  },
  {
   "cell_type": "code",
   "execution_count": null,
   "metadata": {
    "collapsed": false
   },
   "outputs": [],
   "source": [
    "batch['data'][0].shape"
   ]
  },
  {
   "cell_type": "code",
   "execution_count": null,
   "metadata": {
    "collapsed": false
   },
   "outputs": [],
   "source": []
  },
  {
   "cell_type": "code",
   "execution_count": null,
   "metadata": {
    "collapsed": false
   },
   "outputs": [],
   "source": [
    "%matplotlib inline\n",
    "import matplotlib.pyplot as plt\n",
    "mask = polys_to_mask(roidb[0]['segms'][0],300,300)\n",
    "plt.imshow(mask)"
   ]
  },
  {
   "cell_type": "code",
   "execution_count": null,
   "metadata": {
    "collapsed": false
   },
   "outputs": [],
   "source": [
    "print(cfg)"
   ]
  },
  {
   "cell_type": "code",
   "execution_count": null,
   "metadata": {
    "collapsed": false,
    "scrolled": true
   },
   "outputs": [],
   "source": [
    "stop"
   ]
  },
  {
   "cell_type": "code",
   "execution_count": null,
   "metadata": {
    "collapsed": false
   },
   "outputs": [],
   "source": [
    "batch = next(iter(testloader2))"
   ]
  },
  {
   "cell_type": "code",
   "execution_count": null,
   "metadata": {
    "collapsed": false
   },
   "outputs": [],
   "source": [
    "cfg"
   ]
  },
  {
   "cell_type": "code",
   "execution_count": null,
   "metadata": {
    "collapsed": false
   },
   "outputs": [],
   "source": [
    "test_dataset = eval('dataset.' + cfg.DATASET.DATASET)(\n",
    "    root=cfg.DATASET.ROOT,\n",
    "    list_path=cfg.DATASET.TEST_SET,\n",
    "    num_samples=None,\n",
    "    num_classes=cfg.DATASET.NUM_CLASSES,\n",
    "    multi_scale=False,\n",
    "    flip=False,\n",
    "    ignore_label=cfg.TRAIN.IGNORE_LABEL,\n",
    "    base_size=cfg.TEST.BASE_SIZE,\n",
    "    crop_size=test_size,\n",
    "    downsample_rate=1)\n",
    "\n",
    "testloader = torch.utils.data.DataLoader(\n",
    "    test_dataset,\n",
    "    batch_size=1,\n",
    "    shuffle=False,\n",
    "    num_workers=cfg.WORKERS,\n",
    "    pin_memory=True)\n",
    "\n",
    "gpus = list(cfg.GPUS)\n",
    "\n",
    "model = nn.DataParallel(model, device_ids=gpus).cuda()\n",
    "\n",
    "if os.path.exists(args.mask_path):\n",
    "    masks = np.load(args.mask_path, allow_pickle=True)\n",
    "    model.module.set_active_subnet(masks)\n",
    "    logger.info('=> setting mask from {}'.format(args.mask_path))\n",
    "    logger.info(masks)\n",
    "else:\n",
    "    raise NotImplementedError\n",
    "\n",
    "if args.bn_calib:\n",
    "    calib_bn(cfg, model, 0, masks)\n",
    "params, flops, details = get_model_summary(model.module, dump_input.cuda())\n",
    "logger.info('INFO: profile from hrnet: Model {}: params {:.1f} M, flops {:.1f} G (with input size {})'.\n",
    "            format(cfg.MODEL.NAME, params / 1e6, flops, input_shape))\n",
    "\n",
    "\n",
    "mean_IoU, IoU_array = validate(cfg, testloader, model, writer_dict, device=None)\n",
    "\n",
    "msg = 'mean_IoU: {: 4.4f}, IoU_array: {}'.format(mean_IoU, IoU_array)\n",
    "logging.info(msg)"
   ]
  },
  {
   "cell_type": "code",
   "execution_count": null,
   "metadata": {
    "collapsed": true
   },
   "outputs": [],
   "source": []
  },
  {
   "cell_type": "code",
   "execution_count": 32,
   "metadata": {
    "collapsed": false
   },
   "outputs": [
    {
     "data": {
      "text/plain": [
       "CfgNode({'OUTPUT_DIR': 'output', 'LOG_DIR': 'log', 'DATA_DIR': '', 'GPUS': (0, 1, 2, 3), 'WORKERS': 4, 'PRINT_FREQ': 100, 'AUTO_RESUME': False, 'PIN_MEMORY': True, 'RANK': 0, 'CUDNN': CfgNode({'BENCHMARK': True, 'DETERMINISTIC': False, 'ENABLED': True}), 'MODEL': CfgNode({'NAME': 'superscalenet_seg', 'INIT_WEIGHTS': True, 'MASK_PATH': '', 'PRETRAINED': 'models/pytorch/seg_cityscapes/superscalenet_seg_w32_teacher.pth', 'NUM_JOINTS': 17, 'TAG_PER_JOINT': True, 'TARGET_TYPE': 'gaussian', 'IMAGE_SIZE': [256, 256], 'HEATMAP_SIZE': [64, 64], 'SIGMA': 2, 'EXTRA': CfgNode({'FINAL_CONV_KERNEL': 1, 'STAGE1': CfgNode({'NUM_MODULES': 1, 'NUM_RANCHES': 1, 'BLOCK': 'BOTTLENECK', 'NUM_BLOCKS': [4], 'NUM_CHANNELS': [64], 'FUSE_METHOD': 'SUM'}), 'STAGE2': CfgNode({'NUM_MODULES': 1, 'NUM_BRANCHES': 2, 'DEPTH_LIST': [2, 3, 4, 5], 'FUSION_PERCENTAGE': 0.5, 'BLOCK': 'BASIC', 'NUM_BLOCKS': [5, 5], 'NUM_CHANNELS': [32, 64], 'FUSE_METHOD': 'SUM'}), 'STAGE3': CfgNode({'NUM_MODULES': 4, 'NUM_BRANCHES': 3, 'BLOCK': 'BASIC', 'DEPTH_LIST': [2, 3, 4, 5], 'FUSION_PERCENTAGE': 0.5, 'NUM_BLOCKS': [5, 5, 5], 'NUM_CHANNELS': [32, 64, 128], 'FUSE_METHOD': 'SUM'}), 'STAGE4': CfgNode({'NUM_MODULES': 3, 'NUM_BRANCHES': 4, 'BLOCK': 'BASIC', 'DEPTH_LIST': [2, 3, 4, 5], 'FUSION_PERCENTAGE': 0.5, 'NUM_BLOCKS': [5, 5, 5, 5], 'NUM_CHANNELS': [32, 64, 128, 256], 'FUSE_METHOD': 'SUM'})}), 'MULTI_IMAGE_SIZE': [], 'MULTI_HEATMAP_SIZE': [], 'NUM_OUTPUTS': 1, 'ALIGN_CORNERS': True, 'OCR': CfgNode({'MID_CHANNELS': 512, 'KEY_CHANNELS': 256, 'DROPOUT': 0.05, 'SCALE': 1}), 'LR_VIEW_ON': False, 'GIF_ON': False, 'LRASY_MAHA_ON': False, 'NUM_CLASSES': 22, 'KEYPOINTS_ON': False, 'CLS_AGNOSTIC_BBOX_REG': False, 'BBOX_REG_WEIGHTS': (10.0, 10.0, 5.0, 5.0)}), 'LOSS': CfgNode({'USE_OHKM': False, 'TOPK': 8, 'USE_TARGET_WEIGHT': True, 'USE_DIFFERENT_JOINTS_WEIGHT': False, 'USE_OHEM': True, 'OHEMTHRES': 0.9, 'OHEMKEEP': 131072, 'BALANCE_WEIGHTS': [1]}), 'DATASET': CfgNode({'ROOT': '../data/', 'DATASET': 'Lesion', 'TRAIN_SET': ' ', 'TEST_SET': ' ', 'DATA_FORMAT': 'jpg', 'HYBRID_JOINTS_TYPE': '', 'SELECT_DATA': False, 'INPUT_SIZE': 256, 'FLIP': True, 'SCALE_FACTOR': 0.25, 'ROT_FACTOR': 30, 'PROB_HALF_BODY': 0.0, 'NUM_JOINTS_HALF_BODY': 8, 'COLOR_RGB': False, 'NUM_CLASSES': 19, 'EXTRA_TRAIN_SET': ''}), 'TRAIN': CfgNode({'FREEZE_LAYERS': '', 'FREEZE_EPOCHS': -1, 'NONBACKBONE_KEYWORDS': [], 'NONBACKBONE_MULT': 10, 'IMAGE_SIZE': [512, 512], 'BASE_SIZE': 1024, 'DOWNSAMPLERATE': 1, 'FLIP': True, 'MULTI_SCALE': True, 'SCALE_FACTOR': 16, 'NUM_SAMPLES': 0, 'EXTRA_EPOCH': 0, 'SANDWICH_RULE': True, 'GROUP_SAMPLING': True, 'FUSION_OPTIONS': [0.2, 0.5, 0.8], 'DEPTH_OPTIONS': [[2, 3], [3, 4], [4, 5]], 'LR_FACTOR': 0.1, 'LR_STEP': [90, 110], 'LR': 0.001, 'MINMAL_LR': 1e-05, 'LR_SCHEDULER_TYPE': 'Step', 'OPTIMIZER': 'sgd', 'MOMENTUM': 0.9, 'WD': 0.0005, 'NESTEROV': False, 'IGNORE_LABEL': 255, 'GAMMA1': 0.99, 'GAMMA2': 0.0, 'BEGIN_EPOCH': 0, 'END_EPOCH': 484, 'RESUME': True, 'CHECKPOINT': '', 'BATCH_SIZE_PER_GPU': 3, 'SHUFFLE': True, 'SUBNET_NUM': 1, 'VIS_ANCHOR_DIR': './anchor_vis/', 'VIS_ANCHOR': False, 'IMS_PER_BATCH': 1, 'ASPECT_GROUPING': True, 'ONLINE_RANDOM_CROPPING': False, 'ONLINE_RANDOM_CROPPING_PROBABILITY': 1.0, 'ONLINE_RANDOM_CROPPING_IOP_THRESHOLD': 0.9, 'ONLINE_RANDOM_CROPPING_HEIGHT_MIN': 500, 'ONLINE_RANDOM_CROPPING_HEIGHT_MAX': 2000, 'ONLINE_RANDOM_CROPPING_WIDTH_MIN': 500, 'ONLINE_RANDOM_CROPPING_WIDTH_MAX': 1000, 'ASPECT_CROPPING': False, 'ASPECT_HI': 2, 'ASPECT_LO': 0.5, 'IGNORE_ON': False, 'FG_FRACTION': 0.25, 'FG_THRESH': 0.5, 'BG_THRESH_HI': 0.5, 'BG_THRESH_LO': 0.0, 'RPN_POSITIVE_OVERLAP': 0.7, 'RPN_NEGATIVE_OVERLAP': 0.3, 'RPN_FG_FRACTION': 0.5, 'RPN_BATCH_SIZE_PER_IM': 256, 'RPN_NMS_THRESH': 0.7, 'RPN_PRE_NMS_TOP_N': 12000, 'RPN_POST_NMS_TOP_N': 2000, 'RPN_STRADDLE_THRESH': 0, 'RPN_MIN_SIZE': 0, 'CROWD_FILTER_THRESH': 0.7, 'GT_MIN_AREA': -1, 'SCALES': (512,), 'AUGMENTATION': False, 'MAX_SIZE': 800, 'PADDING': 128, 'AUG_LRV_BBOX': False, 'DATASETS': ('PDS_Q2_A&C_22Cat_train',), 'PROPOSAL_FILES': (), 'USE_ADJACENT_LAYER': False, 'USE_FLIPPED': True, 'USE_Z_FLIPPED': False, 'BBOX_THRESH': 0.5}), 'TEST': CfgNode({'IMAGE_SIZE': [512, 512], 'BASE_SIZE': 1024, 'MULTI_SCALE': False, 'NUM_SAMPLES': 0, 'CENTER_CROP_TEST': False, 'BATCH_SIZE_PER_GPU': 4, 'FLIP_TEST': False, 'POST_PROCESS': False, 'SHIFT_HEATMAP': False, 'USE_GT_BBOX': False, 'IMAGE_THRE': 0.1, 'NMS_THRE': 0.6, 'SOFT_NMS': False, 'OKS_THRE': 0.5, 'IN_VIS_THRE': 0.0, 'COCO_BBOX_FILE': '', 'BBOX_THRE': 1.0, 'MODEL_FILE': ''}), 'DEBUG': CfgNode({'DEBUG': False, 'JSON': False, 'SAVE_BATCH_IMAGES_GT': False, 'SAVE_BATCH_IMAGES_PRED': False, 'SAVE_HEATMAPS_GT': False, 'SAVE_HEATMAPS_PRED': False}), 'RPN': CfgNode({'RPN_ON': True}), 'RETINANET': CfgNode({'RETINANET_ON': False}), 'DATA_SOURCE': 'coco', 'PIXEL_MEANS': [[[102.9801, 115.9465, 122.7717]]], 'FPN': CfgNode({'FPN_ON': True, 'DIM': 256, 'ZERO_INIT_LATERAL': False, 'COARSEST_STRIDE': 32, 'MULTILEVEL_ROIS': True, 'ROI_CANONICAL_SCALE': 224, 'ROI_CANONICAL_LEVEL': 4, 'ROI_MAX_LEVEL': 5, 'ROI_MIN_LEVEL': 2, 'MULTILEVEL_RPN': True, 'RPN_MAX_LEVEL': 6, 'RPN_MIN_LEVEL': 2, 'RPN_ASPECT_RATIOS': (0.5, 1, 2), 'RPN_ANCHOR_START_SIZE': 16, 'RPN_COLLECT_SCALE': 1, 'EXTRA_CONV_LEVELS': False, 'USE_GN': False}), 'HIST_EQ': False, 'HIST_EQ_SYM': False, 'A_HIST_EQ': False, 'WINDOWING': [-1024, 3071], 'LESION': CfgNode({'USE_3DCE_FROC': True, 'SLICE_INTERVAL': 2.0, 'LESION_ENABLED': True, 'USE_3D_INPUT': False, 'SLICE_NUM': 3, 'NO_DEPTH_PAD': True, 'DEBUG': False, 'USE_3DCE': False, 'NUM_IMAGES_3DCE': 1, 'MULTI_MODALITY': True, 'CONCAT_BEFORE_RPN': True, 'SUM_BEFORE_RPN': False, 'GIF_BEFORE_RPN': False, 'FUSION_BEFORE_RPN': False, 'WITHOUT_SHARE': False, 'USE_POSITION': True, 'SHALLOW_POSITION': False, 'POSITION_RCNN': False, 'MM_POS': False, 'MM_POS_CHANNEL': False, 'POS_CONCAT_RCNN': False, 'USE_SPECIFIC_WINDOWS': False, 'USE_ONE_WINDOW': False, 'USE_MULTI_WINDOWS': False, 'MM_TEST': False}), 'VAL': CfgNode({'DATASETS': ('PDS_AMGEN_20020408_22Cat_test',), 'PROPOSAL_FILES': ()})})"
      ]
     },
     "execution_count": 32,
     "metadata": {},
     "output_type": "execute_result"
    }
   ],
   "source": [
    "cfg.defro"
   ]
  },
  {
   "cell_type": "code",
   "execution_count": null,
   "metadata": {
    "collapsed": true
   },
   "outputs": [],
   "source": []
  },
  {
   "cell_type": "code",
   "execution_count": null,
   "metadata": {
    "collapsed": true
   },
   "outputs": [],
   "source": []
  },
  {
   "cell_type": "code",
   "execution_count": null,
   "metadata": {
    "collapsed": false,
    "scrolled": true
   },
   "outputs": [],
   "source": [
    "python -m torch.distributed.launch --nproc_per_node=4  tools/train_superscalenet_seg.py \\\n",
    "  --cfg experiments/cityscapes/superscalenet_seg_w32_oneshot_train_ohem_512x1024_sgd_lr1e-3_wd5e-4_bs_24_epoch484_group_sampling.yaml \\\n",
    "  --oneshot_train --use_kd\n"
   ]
  }
 ],
 "metadata": {
  "kernelspec": {
   "display_name": "Environment (conda_scalenas)",
   "language": "python",
   "name": "conda_scalenas"
  },
  "language_info": {
   "codemirror_mode": {
    "name": "ipython",
    "version": 3
   },
   "file_extension": ".py",
   "mimetype": "text/x-python",
   "name": "python",
   "nbconvert_exporter": "python",
   "pygments_lexer": "ipython3",
   "version": "3.6.13"
  }
 },
 "nbformat": 4,
 "nbformat_minor": 2
}
