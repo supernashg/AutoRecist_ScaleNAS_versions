{
 "cells": [
  {
   "cell_type": "code",
   "execution_count": 1,
   "metadata": {
    "collapsed": false,
    "scrolled": true
   },
   "outputs": [
    {
     "name": "stdout",
     "output_type": "stream",
     "text": [
      "                                      Image File Path\n",
      "0   /mnt/fast-disk1/mjc/AutoRecist/Inputs/AMGEN/20...\n",
      "1   /mnt/fast-disk1/mjc/AutoRecist/Inputs/PDS_AUTO...\n",
      "2   /mnt/fast-disk1/mjc/AutoRecist/Inputs/COU-AA-3...\n",
      "3   /mnt/fast-disk1/mjc/AutoRecist/Inputs/AMGEN/20...\n",
      "4   /mnt/fast-disk1/mjc/AutoRecist/Inputs/AMGEN/20...\n",
      "5   /mnt/fast-disk1/mjc/AutoRecist/Inputs/PDS_AUTO...\n",
      "6   /mnt/fast-disk1/mjc/AutoRecist/Inputs/PDS_AUTO...\n",
      "7   /mnt/fast-disk1/mjc/AutoRecist/Inputs/PDS_AUTO...\n",
      "8   /mnt/fast-disk1/mjc/AutoRecist/Inputs/PDS_AUTO...\n",
      "9   /mnt/fast-disk1/mjc/AutoRecist/Inputs/PDS_AUTO...\n",
      "10  /mnt/fast-disk1/mjc/AutoRecist/Inputs/COU-AA-3...\n",
      "11  /mnt/fast-disk1/mjc/AutoRecist/Inputs/COU-AA-3...\n"
     ]
    }
   ],
   "source": [
    "CT_EXCEL_FILE = '/mnt/fast-disk1/demo/Demo_inference.xlsx'\n",
    "SAVE_PATH = '/mnt/fast-disk1/demo/'\n",
    "\n",
    "import pandas as pd\n",
    "df_all = pd.read_excel(CT_EXCEL_FILE)\n",
    "\n",
    "print(df_all)"
   ]
  },
  {
   "cell_type": "code",
   "execution_count": 14,
   "metadata": {
    "collapsed": false
   },
   "outputs": [
    {
     "name": "stdout",
     "output_type": "stream",
     "text": [
      "                                      Image File Path\n",
      "3   /mnt/fast-disk1/mjc/AutoRecist/Inputs/AMGEN/20...\n",
      "4   /mnt/fast-disk1/mjc/AutoRecist/Inputs/AMGEN/20...\n",
      "5   /mnt/fast-disk1/mjc/AutoRecist/Inputs/PDS_AUTO...\n",
      "6   /mnt/fast-disk1/mjc/AutoRecist/Inputs/PDS_AUTO...\n",
      "7   /mnt/fast-disk1/mjc/AutoRecist/Inputs/PDS_AUTO...\n",
      "8   /mnt/fast-disk1/mjc/AutoRecist/Inputs/PDS_AUTO...\n",
      "9   /mnt/fast-disk1/mjc/AutoRecist/Inputs/PDS_AUTO...\n",
      "10  /mnt/fast-disk1/mjc/AutoRecist/Inputs/COU-AA-3...\n",
      "11  /mnt/fast-disk1/mjc/AutoRecist/Inputs/COU-AA-3...\n"
     ]
    }
   ],
   "source": [
    "# df = df_all.iloc[0:1] # a liver lesions case\n",
    "# df = df_all.iloc[1:2] # a lung nodules case\n",
    "# df = df_all.iloc[2:3] # a Lymph nodes case\n",
    "df = df_all.iloc[3:] # all the rest cases\n",
    "print(df)"
   ]
  },
  {
   "cell_type": "code",
   "execution_count": 15,
   "metadata": {
    "collapsed": false
   },
   "outputs": [
    {
     "name": "stdout",
     "output_type": "stream",
     "text": [
      "Initial Image Process\n",
      "3\n",
      "4\n",
      "5\n",
      "6\n",
      "7\n",
      "8\n",
      "9\n",
      "10\n",
      "11\n",
      "Image Process is Done\n",
      "Total of 1256 slice images was Processed.\n"
     ]
    }
   ],
   "source": [
    "%run -i Demo_Read_CT.py"
   ]
  },
  {
   "cell_type": "code",
   "execution_count": 16,
   "metadata": {
    "collapsed": false
   },
   "outputs": [],
   "source": [
    "%%capture\n",
    "%run -i Demo_AI_inference.py"
   ]
  },
  {
   "cell_type": "code",
   "execution_count": null,
   "metadata": {
    "collapsed": false
   },
   "outputs": [
    {
     "name": "stdout",
     "output_type": "stream",
     "text": [
      "Image results are saving into /mnt/fast-disk1/demo/CTs_inference/AMGEN_20020408_BAIMS_D2004_02_29_E20040229_CT_S0003\n",
      "Image results are saving into /mnt/fast-disk1/demo/CTs_inference/AMGEN_20020408_BAIPL_D2004_02_27_E20040227_CT_S0006\n",
      "Image results are saving into /mnt/fast-disk1/demo/CTs_inference/PDS_AUTO_RECIST_METNET0028_D2019_07_12_E6851_CT_S0006_8606\n",
      "Image results are saving into /mnt/fast-disk1/demo/CTs_inference/PDS_AUTO_RECIST_METNET0040_D2018_12_25_E0028_CT_S0004_3920\n",
      "Image results are saving into /mnt/fast-disk1/demo/CTs_inference/PDS_AUTO_RECIST_METNET0056_D2019_03_19_E2806_CT_S0002_8158\n",
      "Image results are saving into /mnt/fast-disk1/demo/CTs_inference/PDS_AUTO_RECIST_METNET0249_D2019_11_25_E7414_CT_S0008_4556\n",
      "Image results are saving into /mnt/fast-disk1/demo/CTs_inference/PDS_AUTO_RECIST_METNET0018_D2019_01_15_E3786_CT_S0003_7953\n",
      "Image results are saving into /mnt/fast-disk1/demo/CTs_inference/COU-AA-302_COU-AA-302_17010151_D2011_07_20_E2378_CT_S0002_8828\n",
      "Image results are saving into /mnt/fast-disk1/demo/CTs_inference/COU-AA-302_COU-AA-302_17010151_D2011_07_20_E2378_CT_S0007_9281\n"
     ]
    }
   ],
   "source": [
    "%run -i Demo_Visualization.py"
   ]
  }
 ],
 "metadata": {
  "kernelspec": {
   "display_name": "Environment (conda_scalenas)",
   "language": "python",
   "name": "conda_scalenas"
  },
  "language_info": {
   "codemirror_mode": {
    "name": "ipython",
    "version": 3
   },
   "file_extension": ".py",
   "mimetype": "text/x-python",
   "name": "python",
   "nbconvert_exporter": "python",
   "pygments_lexer": "ipython3",
   "version": "3.6.13"
  }
 },
 "nbformat": 4,
 "nbformat_minor": 2
}
