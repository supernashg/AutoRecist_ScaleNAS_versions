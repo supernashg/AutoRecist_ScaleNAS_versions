{
 "cells": [
  {
   "cell_type": "code",
   "execution_count": 8,
   "metadata": {
    "collapsed": false,
    "scrolled": false
   },
   "outputs": [
    {
     "name": "stdout",
     "output_type": "stream",
     "text": [
      "/mnt/fast-disk1/mjc/AutoRecist/Codes/ScaleNAS_9Slices/tools\r\n"
     ]
    }
   ],
   "source": [
    "!pwd"
   ]
  },
  {
   "cell_type": "code",
   "execution_count": 1,
   "metadata": {
    "collapsed": false,
    "scrolled": true
   },
   "outputs": [],
   "source": [
    "CT_EXCEL_FILE = '/mnt/fast-disk1/demo/Demo_inference.xlsx'\n",
    "DL_info = '/mnt/fast-data/mjc/AutoRECIST/Inputs/PDS_AMGEN_20020408_CIA-LAB_Image_And_Contour_2022-01-10.xlsx'\n",
    "SAVE_PATH = '/mnt/fast-disk1/demo/'\n",
    "\n",
    "import pandas as pd\n",
    "df = pd.read_excel(CT_EXCEL_FILE)\n"
   ]
  },
  {
   "cell_type": "code",
   "execution_count": 2,
   "metadata": {
    "collapsed": false
   },
   "outputs": [
    {
     "name": "stdout",
     "output_type": "stream",
     "text": [
      "Initial Image Process\n",
      "0\n",
      "1\n",
      "listdir: path should be string, bytes, os.PathLike, integer or None, not float\n",
      "2\n",
      "listdir: path should be string, bytes, os.PathLike, integer or None, not float\n",
      "3\n",
      "listdir: path should be string, bytes, os.PathLike, integer or None, not float\n",
      "4\n",
      "listdir: path should be string, bytes, os.PathLike, integer or None, not float\n",
      "5\n",
      "listdir: path should be string, bytes, os.PathLike, integer or None, not float\n",
      "6\n",
      "listdir: path should be string, bytes, os.PathLike, integer or None, not float\n",
      "7\n",
      "listdir: path should be string, bytes, os.PathLike, integer or None, not float\n",
      "8\n",
      "listdir: path should be string, bytes, os.PathLike, integer or None, not float\n",
      "9\n",
      "listdir: path should be string, bytes, os.PathLike, integer or None, not float\n",
      "10\n",
      "listdir: path should be string, bytes, os.PathLike, integer or None, not float\n",
      "11\n",
      "listdir: path should be string, bytes, os.PathLike, integer or None, not float\n",
      "Image Process is Done\n",
      "Total of 95 slice images was Processed.\n"
     ]
    }
   ],
   "source": [
    "%run -i Demo_Read_CT.py\n"
   ]
  },
  {
   "cell_type": "code",
   "execution_count": 3,
   "metadata": {
    "collapsed": false
   },
   "outputs": [],
   "source": [
    "%%capture\n",
    "%run -i Demo_AI_inference.py"
   ]
  },
  {
   "cell_type": "code",
   "execution_count": 4,
   "metadata": {
    "collapsed": false
   },
   "outputs": [
    {
     "name": "stdout",
     "output_type": "stream",
     "text": [
      "Image results are saving into /mnt/fast-disk1/demo/CTs_inference/AMGEN_20020408_BAIJO_D2004_02_19_E20040219_CT_S0005\n"
     ]
    }
   ],
   "source": [
    "%run -i Demo_Visualization.py"
   ]
  },
  {
   "cell_type": "code",
   "execution_count": 7,
   "metadata": {
    "collapsed": false,
    "scrolled": false
   },
   "outputs": [
    {
     "data": {
      "text/html": [
       "<div>\n",
       "<style scoped>\n",
       "    .dataframe tbody tr th:only-of-type {\n",
       "        vertical-align: middle;\n",
       "    }\n",
       "\n",
       "    .dataframe tbody tr th {\n",
       "        vertical-align: top;\n",
       "    }\n",
       "\n",
       "    .dataframe thead th {\n",
       "        text-align: right;\n",
       "    }\n",
       "</style>\n",
       "<table border=\"1\" class=\"dataframe\">\n",
       "  <thead>\n",
       "    <tr style=\"text-align: right;\">\n",
       "      <th></th>\n",
       "      <th>Image File Path</th>\n",
       "      <th>Unnamed: 1</th>\n",
       "      <th>Unnamed: 2</th>\n",
       "      <th>Unnamed: 3</th>\n",
       "    </tr>\n",
       "  </thead>\n",
       "  <tbody>\n",
       "    <tr>\n",
       "      <th>0</th>\n",
       "      <td>/mnt/fast-disk1/mjc/AutoRecist/Inputs/AMGEN/20...</td>\n",
       "      <td>NaN</td>\n",
       "      <td>NaN</td>\n",
       "      <td>/mnt/fast-disk1/mjc/AutoRecist/Inputs/PDS_AUTO...</td>\n",
       "    </tr>\n",
       "    <tr>\n",
       "      <th>1</th>\n",
       "      <td>NaN</td>\n",
       "      <td>NaN</td>\n",
       "      <td>NaN</td>\n",
       "      <td>/mnt/fast-disk1/mjc/AutoRecist/Inputs/PDS_AUTO...</td>\n",
       "    </tr>\n",
       "    <tr>\n",
       "      <th>2</th>\n",
       "      <td>NaN</td>\n",
       "      <td>NaN</td>\n",
       "      <td>NaN</td>\n",
       "      <td>/mnt/fast-disk1/mjc/AutoRecist/Inputs/PDS_AUTO...</td>\n",
       "    </tr>\n",
       "    <tr>\n",
       "      <th>3</th>\n",
       "      <td>NaN</td>\n",
       "      <td>NaN</td>\n",
       "      <td>NaN</td>\n",
       "      <td>/mnt/fast-disk1/mjc/AutoRecist/Inputs/PDS_AUTO...</td>\n",
       "    </tr>\n",
       "    <tr>\n",
       "      <th>4</th>\n",
       "      <td>NaN</td>\n",
       "      <td>NaN</td>\n",
       "      <td>NaN</td>\n",
       "      <td>/mnt/fast-disk1/mjc/AutoRecist/Inputs/PDS_AUTO...</td>\n",
       "    </tr>\n",
       "    <tr>\n",
       "      <th>5</th>\n",
       "      <td>NaN</td>\n",
       "      <td>NaN</td>\n",
       "      <td>NaN</td>\n",
       "      <td>/mnt/fast-disk1/mjc/AutoRecist/Inputs/PDS_AUTO...</td>\n",
       "    </tr>\n",
       "    <tr>\n",
       "      <th>6</th>\n",
       "      <td>NaN</td>\n",
       "      <td>NaN</td>\n",
       "      <td>NaN</td>\n",
       "      <td>/mnt/fast-disk1/mjc/AutoRecist/Inputs/PDS_AUTO...</td>\n",
       "    </tr>\n",
       "    <tr>\n",
       "      <th>7</th>\n",
       "      <td>NaN</td>\n",
       "      <td>NaN</td>\n",
       "      <td>NaN</td>\n",
       "      <td>/mnt/fast-disk1/mjc/AutoRecist/Inputs/AMGEN/20...</td>\n",
       "    </tr>\n",
       "    <tr>\n",
       "      <th>8</th>\n",
       "      <td>NaN</td>\n",
       "      <td>NaN</td>\n",
       "      <td>NaN</td>\n",
       "      <td>/mnt/fast-disk1/mjc/AutoRecist/Inputs/AMGEN/20...</td>\n",
       "    </tr>\n",
       "    <tr>\n",
       "      <th>9</th>\n",
       "      <td>NaN</td>\n",
       "      <td>NaN</td>\n",
       "      <td>NaN</td>\n",
       "      <td>/mnt/fast-disk1/mjc/AutoRecist/Inputs/AMGEN/20...</td>\n",
       "    </tr>\n",
       "    <tr>\n",
       "      <th>10</th>\n",
       "      <td>NaN</td>\n",
       "      <td>NaN</td>\n",
       "      <td>NaN</td>\n",
       "      <td>/mnt/fast-disk1/mjc/AutoRecist/Inputs/AMGEN/20...</td>\n",
       "    </tr>\n",
       "    <tr>\n",
       "      <th>11</th>\n",
       "      <td>NaN</td>\n",
       "      <td>NaN</td>\n",
       "      <td>NaN</td>\n",
       "      <td>/mnt/fast-disk1/mjc/AutoRecist/Inputs/AMGEN/20...</td>\n",
       "    </tr>\n",
       "  </tbody>\n",
       "</table>\n",
       "</div>"
      ],
      "text/plain": [
       "                                      Image File Path  Unnamed: 1  Unnamed: 2  \\\n",
       "0   /mnt/fast-disk1/mjc/AutoRecist/Inputs/AMGEN/20...         NaN         NaN   \n",
       "1                                                 NaN         NaN         NaN   \n",
       "2                                                 NaN         NaN         NaN   \n",
       "3                                                 NaN         NaN         NaN   \n",
       "4                                                 NaN         NaN         NaN   \n",
       "5                                                 NaN         NaN         NaN   \n",
       "6                                                 NaN         NaN         NaN   \n",
       "7                                                 NaN         NaN         NaN   \n",
       "8                                                 NaN         NaN         NaN   \n",
       "9                                                 NaN         NaN         NaN   \n",
       "10                                                NaN         NaN         NaN   \n",
       "11                                                NaN         NaN         NaN   \n",
       "\n",
       "                                           Unnamed: 3  \n",
       "0   /mnt/fast-disk1/mjc/AutoRecist/Inputs/PDS_AUTO...  \n",
       "1   /mnt/fast-disk1/mjc/AutoRecist/Inputs/PDS_AUTO...  \n",
       "2   /mnt/fast-disk1/mjc/AutoRecist/Inputs/PDS_AUTO...  \n",
       "3   /mnt/fast-disk1/mjc/AutoRecist/Inputs/PDS_AUTO...  \n",
       "4   /mnt/fast-disk1/mjc/AutoRecist/Inputs/PDS_AUTO...  \n",
       "5   /mnt/fast-disk1/mjc/AutoRecist/Inputs/PDS_AUTO...  \n",
       "6   /mnt/fast-disk1/mjc/AutoRecist/Inputs/PDS_AUTO...  \n",
       "7   /mnt/fast-disk1/mjc/AutoRecist/Inputs/AMGEN/20...  \n",
       "8   /mnt/fast-disk1/mjc/AutoRecist/Inputs/AMGEN/20...  \n",
       "9   /mnt/fast-disk1/mjc/AutoRecist/Inputs/AMGEN/20...  \n",
       "10  /mnt/fast-disk1/mjc/AutoRecist/Inputs/AMGEN/20...  \n",
       "11  /mnt/fast-disk1/mjc/AutoRecist/Inputs/AMGEN/20...  "
      ]
     },
     "execution_count": 7,
     "metadata": {},
     "output_type": "execute_result"
    }
   ],
   "source": [
    "df"
   ]
  },
  {
   "cell_type": "code",
   "execution_count": 6,
   "metadata": {
    "collapsed": false
   },
   "outputs": [
    {
     "data": {
      "text/plain": [
       "'/mnt/fast-disk1/demo/'"
      ]
     },
     "execution_count": 6,
     "metadata": {},
     "output_type": "execute_result"
    }
   ],
   "source": [
    "SAVE_PATH"
   ]
  }
 ],
 "metadata": {
  "kernelspec": {
   "display_name": "Environment (conda_scalenas)",
   "language": "python",
   "name": "conda_scalenas"
  },
  "language_info": {
   "codemirror_mode": {
    "name": "ipython",
    "version": 3
   },
   "file_extension": ".py",
   "mimetype": "text/x-python",
   "name": "python",
   "nbconvert_exporter": "python",
   "pygments_lexer": "ipython3",
   "version": "3.6.13"
  }
 },
 "nbformat": 4,
 "nbformat_minor": 2
}
