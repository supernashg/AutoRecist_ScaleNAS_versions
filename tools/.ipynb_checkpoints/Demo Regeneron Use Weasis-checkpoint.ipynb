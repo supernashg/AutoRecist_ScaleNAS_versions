{
 "cells": [
  {
   "cell_type": "code",
   "execution_count": 23,
   "metadata": {
    "collapsed": false,
    "scrolled": true
   },
   "outputs": [],
   "source": [
    "CT_EXCEL_FILE = '/mnt/fast-disk1/demo/Demo_inference.xlsx'\n",
    "SAVE_PATH = '/mnt/fast-disk1/demo/'\n",
    "\n",
    "import pandas as pd\n",
    "df = pd.read_excel(CT_EXCEL_FILE)"
   ]
  },
  {
   "cell_type": "code",
   "execution_count": 24,
   "metadata": {
    "collapsed": false
   },
   "outputs": [
    {
     "data": {
      "text/html": [
       "<div>\n",
       "<style scoped>\n",
       "    .dataframe tbody tr th:only-of-type {\n",
       "        vertical-align: middle;\n",
       "    }\n",
       "\n",
       "    .dataframe tbody tr th {\n",
       "        vertical-align: top;\n",
       "    }\n",
       "\n",
       "    .dataframe thead th {\n",
       "        text-align: right;\n",
       "    }\n",
       "</style>\n",
       "<table border=\"1\" class=\"dataframe\">\n",
       "  <thead>\n",
       "    <tr style=\"text-align: right;\">\n",
       "      <th></th>\n",
       "      <th>Image File Path</th>\n",
       "    </tr>\n",
       "  </thead>\n",
       "  <tbody>\n",
       "    <tr>\n",
       "      <th>0</th>\n",
       "      <td>/mnt/fast-disk1/mjc/AutoRecist/Inputs/AMGEN/20...</td>\n",
       "    </tr>\n",
       "    <tr>\n",
       "      <th>1</th>\n",
       "      <td>/mnt/fast-disk1/mjc/AutoRecist/Inputs/AMGEN/20...</td>\n",
       "    </tr>\n",
       "    <tr>\n",
       "      <th>2</th>\n",
       "      <td>/mnt/fast-disk1/mjc/AutoRecist/Inputs/AMGEN/20...</td>\n",
       "    </tr>\n",
       "    <tr>\n",
       "      <th>3</th>\n",
       "      <td>/mnt/fast-disk1/mjc/AutoRecist/Inputs/AMGEN/20...</td>\n",
       "    </tr>\n",
       "    <tr>\n",
       "      <th>4</th>\n",
       "      <td>/mnt/fast-disk1/mjc/AutoRecist/Inputs/PDS_AUTO...</td>\n",
       "    </tr>\n",
       "    <tr>\n",
       "      <th>5</th>\n",
       "      <td>/mnt/fast-disk1/mjc/AutoRecist/Inputs/PDS_AUTO...</td>\n",
       "    </tr>\n",
       "    <tr>\n",
       "      <th>6</th>\n",
       "      <td>/mnt/fast-disk1/mjc/AutoRecist/Inputs/PDS_AUTO...</td>\n",
       "    </tr>\n",
       "    <tr>\n",
       "      <th>7</th>\n",
       "      <td>/mnt/fast-disk1/mjc/AutoRecist/Inputs/PDS_AUTO...</td>\n",
       "    </tr>\n",
       "    <tr>\n",
       "      <th>8</th>\n",
       "      <td>/mnt/fast-disk1/mjc/AutoRecist/Inputs/PDS_AUTO...</td>\n",
       "    </tr>\n",
       "    <tr>\n",
       "      <th>9</th>\n",
       "      <td>/mnt/fast-disk1/mjc/AutoRecist/Inputs/COU-AA-3...</td>\n",
       "    </tr>\n",
       "    <tr>\n",
       "      <th>10</th>\n",
       "      <td>/mnt/fast-disk1/mjc/AutoRecist/Inputs/COU-AA-3...</td>\n",
       "    </tr>\n",
       "    <tr>\n",
       "      <th>11</th>\n",
       "      <td>/mnt/fast-disk1/mjc/AutoRecist/Inputs/COU-AA-3...</td>\n",
       "    </tr>\n",
       "    <tr>\n",
       "      <th>12</th>\n",
       "      <td>/mnt/fast-disk1/mjc/AutoRecist/Inputs/PDS_AUTO...</td>\n",
       "    </tr>\n",
       "    <tr>\n",
       "      <th>13</th>\n",
       "      <td>/mnt/fast-disk1/mjc/AutoRecist/Inputs/PDS_AUTO...</td>\n",
       "    </tr>\n",
       "  </tbody>\n",
       "</table>\n",
       "</div>"
      ],
      "text/plain": [
       "                                      Image File Path\n",
       "0   /mnt/fast-disk1/mjc/AutoRecist/Inputs/AMGEN/20...\n",
       "1   /mnt/fast-disk1/mjc/AutoRecist/Inputs/AMGEN/20...\n",
       "2   /mnt/fast-disk1/mjc/AutoRecist/Inputs/AMGEN/20...\n",
       "3   /mnt/fast-disk1/mjc/AutoRecist/Inputs/AMGEN/20...\n",
       "4   /mnt/fast-disk1/mjc/AutoRecist/Inputs/PDS_AUTO...\n",
       "5   /mnt/fast-disk1/mjc/AutoRecist/Inputs/PDS_AUTO...\n",
       "6   /mnt/fast-disk1/mjc/AutoRecist/Inputs/PDS_AUTO...\n",
       "7   /mnt/fast-disk1/mjc/AutoRecist/Inputs/PDS_AUTO...\n",
       "8   /mnt/fast-disk1/mjc/AutoRecist/Inputs/PDS_AUTO...\n",
       "9   /mnt/fast-disk1/mjc/AutoRecist/Inputs/COU-AA-3...\n",
       "10  /mnt/fast-disk1/mjc/AutoRecist/Inputs/COU-AA-3...\n",
       "11  /mnt/fast-disk1/mjc/AutoRecist/Inputs/COU-AA-3...\n",
       "12  /mnt/fast-disk1/mjc/AutoRecist/Inputs/PDS_AUTO...\n",
       "13  /mnt/fast-disk1/mjc/AutoRecist/Inputs/PDS_AUTO..."
      ]
     },
     "execution_count": 24,
     "metadata": {},
     "output_type": "execute_result"
    }
   ],
   "source": [
    "df"
   ]
  },
  {
   "cell_type": "code",
   "execution_count": 10,
   "metadata": {
    "collapsed": false
   },
   "outputs": [],
   "source": []
  },
  {
   "cell_type": "code",
   "execution_count": 11,
   "metadata": {
    "collapsed": false
   },
   "outputs": [
    {
     "data": {
      "text/html": [
       "<div>\n",
       "<style scoped>\n",
       "    .dataframe tbody tr th:only-of-type {\n",
       "        vertical-align: middle;\n",
       "    }\n",
       "\n",
       "    .dataframe tbody tr th {\n",
       "        vertical-align: top;\n",
       "    }\n",
       "\n",
       "    .dataframe thead th {\n",
       "        text-align: right;\n",
       "    }\n",
       "</style>\n",
       "<table border=\"1\" class=\"dataframe\">\n",
       "  <thead>\n",
       "    <tr style=\"text-align: right;\">\n",
       "      <th></th>\n",
       "      <th>Image File Path</th>\n",
       "    </tr>\n",
       "  </thead>\n",
       "  <tbody>\n",
       "    <tr>\n",
       "      <th>0</th>\n",
       "      <td>/mnt/fast-disk1/mjc/AutoRecist/Inputs/AMGEN/20...</td>\n",
       "    </tr>\n",
       "  </tbody>\n",
       "</table>\n",
       "</div>"
      ],
      "text/plain": [
       "                                     Image File Path\n",
       "0  /mnt/fast-disk1/mjc/AutoRecist/Inputs/AMGEN/20..."
      ]
     },
     "execution_count": 11,
     "metadata": {},
     "output_type": "execute_result"
    }
   ],
   "source": []
  },
  {
   "cell_type": "code",
   "execution_count": 25,
   "metadata": {
    "collapsed": false
   },
   "outputs": [
    {
     "name": "stdout",
     "output_type": "stream",
     "text": [
      "Initial Image Process\n",
      "0\n",
      "1\n",
      "2\n",
      "3\n",
      "4\n",
      "5\n",
      "6\n",
      "7\n",
      "8\n",
      "9\n",
      "10\n",
      "11\n",
      "12\n",
      "13\n",
      "Image Process is Done\n",
      "Total of 2108 slice images was Processed.\n"
     ]
    }
   ],
   "source": [
    "%run -i Demo_Read_CT.py"
   ]
  },
  {
   "cell_type": "code",
   "execution_count": 14,
   "metadata": {
    "collapsed": false
   },
   "outputs": [],
   "source": [
    "%%capture\n",
    "%run -i Demo_AI_inference.py"
   ]
  },
  {
   "cell_type": "code",
   "execution_count": null,
   "metadata": {
    "collapsed": false
   },
   "outputs": [],
   "source": [
    "%run -i Demo_Visualization.py"
   ]
  },
  {
   "cell_type": "code",
   "execution_count": 29,
   "metadata": {
    "collapsed": false,
    "scrolled": false
   },
   "outputs": [
    {
     "name": "stdout",
     "output_type": "stream",
     "text": [
      "loading annotations into memory...\n",
      "Done (t=0.01s)\n",
      "creating index...\n",
      "index created!\n",
      "1 2108\n",
      "2 2108\n",
      "4 2108\n"
     ]
    }
   ],
   "source": [
    "get_ipython().system('rm /mnt/fast-disk1/mjc/AutoRecist/Codes/ScaleNAS_9Slices/tools/cache/inference_gt_roidb.pkl')\n",
    "from dataset.roidb import combined_roidb_for_training\n",
    "from config import cfg\n",
    "test_roidb, test_ratio_list, test_ratio_index = combined_roidb_for_training(\n",
    "        ('inference',) , cfg.VAL.PROPOSAL_FILES)"
   ]
  },
  {
   "cell_type": "code",
   "execution_count": null,
   "metadata": {
    "collapsed": false
   },
   "outputs": [],
   "source": [
    "%run -i Demo_Save_Raw_To_Weasis.py"
   ]
  },
  {
   "cell_type": "code",
   "execution_count": 27,
   "metadata": {
    "collapsed": false
   },
   "outputs": [
    {
     "data": {
      "text/plain": [
       "['/mnt/fast-disk1/mjc/AutoRecist/Inputs/AMGEN/20020408/BAIJO/D2004_02_19/E20040219/CT/S0005',\n",
       " '/mnt/fast-disk1/demo/RawToWeasis/jm4669_BAIJO_D20040219_S0005_T0020_1.3.46.670589.10.1.1.2161670530.1108555544.891225.raw',\n",
       " 'jm4669']"
      ]
     },
     "execution_count": 27,
     "metadata": {},
     "output_type": "execute_result"
    }
   ],
   "source": [
    "[image_series_path , file_name , user_id ]"
   ]
  },
  {
   "cell_type": "code",
   "execution_count": 28,
   "metadata": {
    "collapsed": false
   },
   "outputs": [
    {
     "name": "stdout",
     "output_type": "stream",
     "text": [
      "1 107\n",
      "2 109\n",
      "3 334\n",
      "4 72\n",
      "5 75243\n",
      "6 184\n",
      "7 8556\n",
      "8 356\n",
      "9 67\n",
      "10 970\n",
      "11 86\n",
      "12 7064\n",
      "13 2994\n",
      "14 30749\n",
      "15 59\n",
      "16 1627\n",
      "17 22603\n",
      "18 3553\n",
      "19 515\n",
      "20 159\n"
     ]
    }
   ],
   "source": [
    "/mnt/fast-disk1/mjc/AutoRecist/Inputs/AMGEN/20020408/BAIJO/D2004_02_19/E20040219/CT/S0005\n",
    "\n",
    "X:\\ClinicalTrials\\FNIH_VOLPACK\\AMGEN\n",
    "X:\\Users\\JingchenMa\\AutoRecist\\RawToWeasis\\\n",
    "    \n",
    "def pd_str_replace(df , col, ori, new):\n",
    "if isinstance(col , str):\n",
    "    df[col] = df[col].str.replace(ori,new, case = False) \n",
    "elif isinstance(col, list):\n",
    "    for one in col:\n",
    "        pd_str_replace(df , one, ori, new)\n",
    "else:\n",
    "    raise('col instence should be str or list')\n",
    "\n",
    "pd_str_replace(df_metrics, ['Image File Path' ], \"/mnt/fast-disk1/mjc/AutoRecist/Inputs/AMGEN/\" , \"X:\\ClinicalTrials\\FNIH_VOLPACK\\AMGEN\\\")\n",
    "pd_str_replace(df_metrics, ['Image File Path' ], \"/mnt/fast-disk1/mjc/AutoRecist/Inputs/\" , \"X:\\ClinicalTrials\\\")\n",
    "\n",
    "pd_str_replace(df_metrics, ['Contour File Path'], \"/mnt/fast-disk1/demo/RawToWeasis\", \"X:\\Users\\JingchenMa\\AutoRecist\\RawToWeasis\\\")\n",
    "pd_str_replace(df_metrics, ['Image File Path' , 'Contour File Path'], \"/\" , r\"\\\\\" )\n",
    "\n",
    "\n",
    "df_metrics.to_csv('ImportContourIntoDatabase.csv' , index=False)"
   ]
  }
 ],
 "metadata": {
  "kernelspec": {
   "display_name": "Environment (conda_scalenas)",
   "language": "python",
   "name": "conda_scalenas"
  },
  "language_info": {
   "codemirror_mode": {
    "name": "ipython",
    "version": 3
   },
   "file_extension": ".py",
   "mimetype": "text/x-python",
   "name": "python",
   "nbconvert_exporter": "python",
   "pygments_lexer": "ipython3",
   "version": "3.6.13"
  }
 },
 "nbformat": 4,
 "nbformat_minor": 2
}
