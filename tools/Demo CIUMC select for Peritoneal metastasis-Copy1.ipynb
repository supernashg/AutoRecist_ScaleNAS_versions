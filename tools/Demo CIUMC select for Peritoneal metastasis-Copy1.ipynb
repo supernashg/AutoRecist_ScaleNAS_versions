{
 "cells": [
  {
   "cell_type": "code",
   "execution_count": null,
   "metadata": {
    "collapsed": false,
    "scrolled": false
   },
   "outputs": [],
   "source": []
  },
  {
   "cell_type": "code",
   "execution_count": 13,
   "metadata": {
    "collapsed": false,
    "scrolled": true
   },
   "outputs": [],
   "source": [
    "\n",
    "DL_info = '/mnt/fast-data/mjc/AutoRECIST/Inputs/PDS_AUTO_RECIST CIA-LAB Image and Contour 2020-10-01.xlsx'\n",
    "\n",
    "SAVE_PATH = '/mnt/fast-disk1/mjc/AutoRecist/Outputs/ScaleNAS_Q5_9Slices/Peritoneal_Metastasis/pelvis'\n",
    "\n",
    "import pandas as pd\n",
    "\n",
    "def pd_str_replace(df , col, ori, new):\n",
    "    if isinstance(col , str):\n",
    "        df[col] = df[col].str.replace(ori,new, case = False) \n",
    "    elif isinstance(col, list):\n",
    "        for one in col:\n",
    "            pd_str_replace(df , one, ori, new)\n",
    "    else:\n",
    "        raise('col instence should be str or list')\n",
    "        \n",
    "df = pd.read_excel(DL_info)\n",
    "pd_str_replace(df, ['Image File Path' , 'Contour File Path'], \"X:\" , \"/mnt/X-drive\")\n",
    "pd_str_replace(df, ['Image File Path' , 'Contour File Path'], r\"\\\\\" , \"/\")\n",
    "pd_str_replace(df, ['Image File Path'], \"/mnt/X-drive/ClinicalTrials/FNIH_VOLPACK\", \"/mnt/fast-disk1/mjc/AutoRecist/Inputs\")\n",
    "pd_str_replace(df, ['Image File Path'], \"/mnt/X-drive/ClinicalTrials\", \"/mnt/fast-disk1/mjc/AutoRecist/Inputs\")\n",
    "\n",
    "\n"
   ]
  },
  {
   "cell_type": "code",
   "execution_count": 16,
   "metadata": {
    "collapsed": false
   },
   "outputs": [
    {
     "data": {
      "text/plain": [
       "{'abdomen',\n",
       " 'abdomen LN',\n",
       " 'adrenal',\n",
       " 'axillary LN',\n",
       " 'bone',\n",
       " 'kidney',\n",
       " 'liver',\n",
       " 'lung',\n",
       " 'mediastinum LN',\n",
       " 'ovary',\n",
       " 'pancreas',\n",
       " 'pelvic LN',\n",
       " 'pelvis',\n",
       " 'pleural',\n",
       " 'retroperitoneal LN',\n",
       " 'soft tissue',\n",
       " 'spleen',\n",
       " 'thyroid'}"
      ]
     },
     "execution_count": 16,
     "metadata": {},
     "output_type": "execute_result"
    }
   ],
   "source": [
    "set(df.Location)"
   ]
  },
  {
   "cell_type": "code",
   "execution_count": 14,
   "metadata": {
    "collapsed": false
   },
   "outputs": [],
   "source": [
    "df = df[ df.Location.isin(['pelvis' , 'pelvis LN']) ]\n",
    "\n",
    "len(df)"
   ]
  },
  {
   "cell_type": "code",
   "execution_count": 16,
   "metadata": {
    "collapsed": false
   },
   "outputs": [
    {
     "name": "stdout",
     "output_type": "stream",
     "text": [
      "Initial Image Process\n",
      "89\n",
      "232\n",
      "471\n",
      "596\n",
      "597\n",
      "598\n",
      "681\n",
      "728\n",
      "818\n",
      "819\n",
      "826\n",
      "827\n",
      "838\n",
      "Image Process is Done\n",
      "Total of 1443 slice images was Processed.\n"
     ]
    }
   ],
   "source": [
    "%run -i Demo_Read_CT.py\n"
   ]
  },
  {
   "cell_type": "code",
   "execution_count": null,
   "metadata": {
    "collapsed": false
   },
   "outputs": [],
   "source": []
  },
  {
   "cell_type": "code",
   "execution_count": null,
   "metadata": {
    "collapsed": false
   },
   "outputs": [],
   "source": []
  },
  {
   "cell_type": "code",
   "execution_count": 17,
   "metadata": {
    "collapsed": false,
    "scrolled": false
   },
   "outputs": [
    {
     "name": "stdout",
     "output_type": "stream",
     "text": [
      "removed ‘/mnt/fast-disk1/mjc/AutoRecist/Codes/ScaleNAS_9Slices/tools/cache/inference_gt_roidb.pkl’\n",
      "loading annotations into memory...\n",
      "Done (t=0.01s)\n",
      "creating index...\n",
      "index created!\n",
      "1 1443\n",
      "2 2886\n",
      "4 2886\n"
     ]
    }
   ],
   "source": [
    "\n",
    "!rm -v /mnt/fast-disk1/mjc/AutoRecist/Codes/ScaleNAS_9Slices/tools/cache/inference_gt_roidb.pkl\n",
    "import _init_paths\n",
    "import dataset\n",
    "from config import cfg\n",
    "from dataset.roidb import combined_roidb_for_training\n",
    "test_roidb, test_ratio_list, test_ratio_index = combined_roidb_for_training(\n",
    "        ('inference',) , cfg.VAL.PROPOSAL_FILES)"
   ]
  },
  {
   "cell_type": "code",
   "execution_count": 18,
   "metadata": {
    "collapsed": false
   },
   "outputs": [
    {
     "name": "stdout",
     "output_type": "stream",
     "text": [
      "Image results are saving into /mnt/fast-disk1/mjc/AutoRecist/Outputs/ScaleNAS_Q5_9Slices/Peritoneal_Metastasis/pelvis/CTs_inference/PDS_AUTO_RECIST_METNET0019_D2020_01_07_E8279_CT_S0005_2496\n",
      "Image results are saving into /mnt/fast-disk1/mjc/AutoRecist/Outputs/ScaleNAS_Q5_9Slices/Peritoneal_Metastasis/pelvis/CTs_inference/PDS_AUTO_RECIST_METNET0045_D2018_12_31_E4873_CT_S0004_3712\n",
      "Image results are saving into /mnt/fast-disk1/mjc/AutoRecist/Outputs/ScaleNAS_Q5_9Slices/Peritoneal_Metastasis/pelvis/CTs_inference/PDS_AUTO_RECIST_METNET0097_D2019_07_05_E2510_CT_S0002_2523\n",
      "Image results are saving into /mnt/fast-disk1/mjc/AutoRecist/Outputs/ScaleNAS_Q5_9Slices/Peritoneal_Metastasis/pelvis/CTs_inference/PDS_AUTO_RECIST_METNET0124_D2019_05_24_E4682_CT_S0007_2134\n",
      "Image results are saving into /mnt/fast-disk1/mjc/AutoRecist/Outputs/ScaleNAS_Q5_9Slices/Peritoneal_Metastasis/pelvis/CTs_inference/PDS_AUTO_RECIST_METNET0150_D2019_12_13_E6241_CT_S0005_2496\n",
      "Image results are saving into /mnt/fast-disk1/mjc/AutoRecist/Outputs/ScaleNAS_Q5_9Slices/Peritoneal_Metastasis/pelvis/CTs_inference/PDS_AUTO_RECIST_METNET0162_D2019_04_08_E1360_CT_S0004_6441\n",
      "Image results are saving into /mnt/fast-disk1/mjc/AutoRecist/Outputs/ScaleNAS_Q5_9Slices/Peritoneal_Metastasis/pelvis/CTs_inference/PDS_AUTO_RECIST_METNET0199_D2019_12_12_E5891_CT_S0002_2751\n",
      "Image results are saving into /mnt/fast-disk1/mjc/AutoRecist/Outputs/ScaleNAS_Q5_9Slices/Peritoneal_Metastasis/pelvis/CTs_inference/PDS_AUTO_RECIST_METNET0208_D2019_06_26_E9298_CT_S0003_9073\n",
      "Image results are saving into /mnt/fast-disk1/mjc/AutoRecist/Outputs/ScaleNAS_Q5_9Slices/Peritoneal_Metastasis/pelvis/CTs_inference/PDS_AUTO_RECIST_METNET0212_D2019_09_12_E9134_CT_S0003_8663\n"
     ]
    }
   ],
   "source": [
    "%run -i Demo_Visualization.py"
   ]
  },
  {
   "cell_type": "code",
   "execution_count": null,
   "metadata": {
    "collapsed": false
   },
   "outputs": [],
   "source": [
    "SAVE_PATH"
   ]
  }
 ],
 "metadata": {
  "kernelspec": {
   "display_name": "Environment (conda_scalenas)",
   "language": "python",
   "name": "conda_scalenas"
  },
  "language_info": {
   "codemirror_mode": {
    "name": "ipython",
    "version": 3
   },
   "file_extension": ".py",
   "mimetype": "text/x-python",
   "name": "python",
   "nbconvert_exporter": "python",
   "pygments_lexer": "ipython3",
   "version": "3.6.13"
  }
 },
 "nbformat": 4,
 "nbformat_minor": 2
}
