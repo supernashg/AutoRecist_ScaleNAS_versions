{
 "cells": [
  {
   "cell_type": "markdown",
   "metadata": {},
   "source": [
    "## Load an Excel spreadsheet of CT file path"
   ]
  },
  {
   "cell_type": "code",
   "execution_count": 1,
   "metadata": {
    "collapsed": false,
    "scrolled": true
   },
   "outputs": [
    {
     "name": "stdout",
     "output_type": "stream",
     "text": [
      "                                      Image File Path\n",
      "0   /mnt/fast-disk1/mjc/AutoRecist/Inputs/AMGEN/20...\n",
      "1   /mnt/fast-disk1/mjc/AutoRecist/Inputs/PDS_AUTO...\n",
      "2   /mnt/fast-disk1/mjc/AutoRecist/Inputs/COU-AA-3...\n",
      "3   /mnt/fast-disk1/mjc/AutoRecist/Inputs/AMGEN/20...\n",
      "4   /mnt/fast-disk1/mjc/AutoRecist/Inputs/AMGEN/20...\n",
      "5   /mnt/fast-disk1/mjc/AutoRecist/Inputs/PDS_AUTO...\n",
      "6   /mnt/fast-disk1/mjc/AutoRecist/Inputs/PDS_AUTO...\n",
      "7   /mnt/fast-disk1/mjc/AutoRecist/Inputs/PDS_AUTO...\n",
      "8   /mnt/fast-disk1/mjc/AutoRecist/Inputs/PDS_AUTO...\n",
      "9   /mnt/fast-disk1/mjc/AutoRecist/Inputs/PDS_AUTO...\n",
      "10  /mnt/fast-disk1/mjc/AutoRecist/Inputs/COU-AA-3...\n",
      "11  /mnt/fast-disk1/mjc/AutoRecist/Inputs/COU-AA-3...\n"
     ]
    }
   ],
   "source": [
    "CT_EXCEL_FILE = '/mnt/fast-disk1/demo/Demo_inference.xlsx'\n",
    "SAVE_PATH = '/mnt/fast-disk1/demo/'\n",
    "\n",
    "import pandas as pd\n",
    "df_all = pd.read_excel(CT_EXCEL_FILE)\n",
    "\n",
    "print(df_all)"
   ]
  },
  {
   "cell_type": "code",
   "execution_count": null,
   "metadata": {
    "collapsed": false
   },
   "outputs": [],
   "source": []
  },
  {
   "cell_type": "code",
   "execution_count": 2,
   "metadata": {
    "collapsed": false,
    "scrolled": true
   },
   "outputs": [
    {
     "name": "stdout",
     "output_type": "stream",
     "text": [
      "                                     Image File Path\n",
      "0  /mnt/fast-disk1/mjc/AutoRecist/Inputs/AMGEN/20...\n"
     ]
    }
   ],
   "source": [
    "df = df_all.iloc[0:1] # a liver lesions case\n",
    "\n",
    "# df = df_all.iloc[3:] # all the rest cases\n",
    "# df = df_all.iloc[1:2] # a lung nodules case\n",
    "# df = df_all.iloc[2:3] # a Lymph nodes case\n",
    "\n",
    "print(df)"
   ]
  },
  {
   "cell_type": "markdown",
   "metadata": {},
   "source": [
    "## Load CT images"
   ]
  },
  {
   "cell_type": "code",
   "execution_count": 3,
   "metadata": {
    "collapsed": false
   },
   "outputs": [
    {
     "name": "stdout",
     "output_type": "stream",
     "text": [
      "Initial Image Process\n",
      "0\n",
      "Image Process is Done\n",
      "Total of 95 slice images was Processed.\n"
     ]
    }
   ],
   "source": [
    "%run -i Demo_Read_CT.py"
   ]
  },
  {
   "cell_type": "markdown",
   "metadata": {},
   "source": [
    "## AI model analyze the CT images to segment cancer lesions"
   ]
  },
  {
   "cell_type": "code",
   "execution_count": 4,
   "metadata": {
    "collapsed": false
   },
   "outputs": [],
   "source": [
    "%%capture\n",
    "%run -i Demo_AI_inference.py"
   ]
  },
  {
   "cell_type": "markdown",
   "metadata": {},
   "source": [
    "## Visualize the AI results"
   ]
  },
  {
   "cell_type": "code",
   "execution_count": 5,
   "metadata": {
    "collapsed": false,
    "scrolled": true
   },
   "outputs": [
    {
     "name": "stdout",
     "output_type": "stream",
     "text": [
      "Image results are saving into /mnt/fast-disk1/demo/CTs_inference/AMGEN_20020408_BAIJO_D2004_02_19_E20040219_CT_S0005\n"
     ]
    }
   ],
   "source": [
    "%run -i Demo_Visualization.py"
   ]
  },
  {
   "cell_type": "code",
   "execution_count": null,
   "metadata": {
    "collapsed": false,
    "scrolled": false
   },
   "outputs": [],
   "source": []
  }
 ],
 "metadata": {
  "kernelspec": {
   "display_name": "Environment (conda_scalenas)",
   "language": "python",
   "name": "conda_scalenas"
  },
  "language_info": {
   "codemirror_mode": {
    "name": "ipython",
    "version": 3
   },
   "file_extension": ".py",
   "mimetype": "text/x-python",
   "name": "python",
   "nbconvert_exporter": "python",
   "pygments_lexer": "ipython3",
   "version": "3.6.13"
  }
 },
 "nbformat": 4,
 "nbformat_minor": 2
}
