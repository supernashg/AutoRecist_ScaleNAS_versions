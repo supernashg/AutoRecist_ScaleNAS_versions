{
 "cells": [
  {
   "cell_type": "code",
   "execution_count": null,
   "metadata": {
    "collapsed": false
   },
   "outputs": [],
   "source": [
    "!ls *.csv"
   ]
  },
  {
   "cell_type": "code",
   "execution_count": null,
   "metadata": {
    "collapsed": true
   },
   "outputs": [],
   "source": []
  },
  {
   "cell_type": "code",
   "execution_count": null,
   "metadata": {
    "collapsed": true
   },
   "outputs": [],
   "source": [
    "targets = [\"BAIRB\",\n",
    "\"BAIJL\",\n",
    "\"BAIJR\",\n",
    "\"BAIKQ\",\n",
    "\"BAIJD\",\n",
    "\n",
    "\"METNET0091\",\n",
    "\"METNET0092\",\n",
    "\"METNET0093\",\n",
    "\"METNET0121\",\n",
    "\"METNET0195\",]"
   ]
  },
  {
   "cell_type": "code",
   "execution_count": 1,
   "metadata": {
    "collapsed": true
   },
   "outputs": [],
   "source": [
    "#Yen excel comment is AI outside liver\n",
    "targets = [\n",
    "\"METNET0010/D2019_01_04/E0016/CT/S0003_7994\",\n",
    "\"METNET0017/D2019_05_09/E0341/CT/S0005_3505\",\n",
    "\"METNET0061/D2019_09_23/E8963/CT/S0006_9201\",\n",
    "\"METNET0062/D2019_06_24/E3991/CT/S0704_8364\",\n",
    "\"METNET0063/D2019_09_06/E5582/CT/S0004_5912\",\n",
    "\"METNET0070/D2020_03_10/E1191/CT/S0006_1494\",\n",
    "\"METNET0074/D2020_03_23/E3151/CT/S0001_8171\",\n",
    "\"METNET0096/D2019_03_12/E7312/CT/S0006_3216\",\n",
    "\"METNET0117/D2019_05_23/E5543/CT/S0004_3920\",\n",
    "\"METNET0124/D2019_05_24/E4682/CT/S0007_2134\",\n",
    "\"METNET0150/D2019_12_13/E6241/CT/S0005_2496\",\n",
    "\"METNET0153/D2019_12_10/E3951/CT/S0003_3965\",\n",
    "\"METNET0173/D2020_01_16/E7597/CT/S0003_1998\",\n",
    "\"METNET0174/D2019_01_18/E3953/CT/S0003_9603\",\n",
    "\"METNET0194/D2019_02_11/E3607/CT/S0002_7368\",\n",
    "\"METNET0194/D2019_02_11/E3611/CT/S0002_7005\",\n",
    "\"METNET0205/D2019_03_14/E5239/CT/S0004_7948\",\n",
    "\"METNET0220/D2019_01_07/E5522/CT/S0005_1005\",\n",
    "\"AMGEN/20020408/BAIJG/D2004_02_02/E20040202/CT/S0013\",\n",
    "\"AMGEN/20020408/BAIJQ/D2004_04_27/E20040427/CT/S0007\",\n",
    "\"AMGEN/20020408/BAIKJ/D2004_02_08/E20040208/CT/S0004\",\n",
    "\"AMGEN/20020408/BAIKS/D2004_02_21/E20040221/CT/S0003\",\n",
    "\"AMGEN/20020408/BAILE/D2004_02_21/E20040221/CT/S0002\",\n",
    "\"AMGEN/20020408/BAILS/D2004_02_28/E20040228/CT/S4883\",\n",
    "\"AMGEN/20020408/BAILU/D2004_02_25/E20040225/CT/S0002\",\n",
    "\"AMGEN/20020408/BAILY/D2004_02_03/E20040203/CT/S0002\",\n",
    "\"AMGEN/20020408/BAIMC/D2004_02_28/E20040228/CT/S2607\",\n",
    "\"AMGEN/20020408/BAINA/D2004_04_21/E20040421/CT/S7100\",\n",
    "\"AMGEN/20020408/BAINC/D2004_02_27/E20040227/CT/S3498\",\n",
    "\"AMGEN/20020408/BAINK/D2004_02_16/E20040216/CT/S0007\",\n",
    "\"AMGEN/20020408/BAINL/D2004_03_30/E20040330/CT/S0006\",\n",
    "\"METNET2913/D2015_03_12/E6834/CT/S0010_8451\",\n",
    "\"METNET2913/D2015_03_12/E2189/CT/S0008_1228\",\n",
    "\"METNET2941/D2015_03_04/E7958/CT/S0003_9643\",\n",
    "\"METNET2943/D2015_07_29/E3197/CT/S0003_2043\",\n",
    "\"METNET2961/D2015_04_03/E4964/CT/S0005_9755\",\n",
    "\"METNET2961/D2015_04_03/E0296/CT/S0007_0577\",\n",
    "\"METNET2966/D2015_11_24/E3594/CT/S0007_6037\",\n",
    "\"METNET2966/D2015_11_24/E9439/CT/S0005_2503\",\n",
    "\"METNET2999/D2015_01_29/E4066/CT/S0007_5972\",\n",
    "\"METNET2999/D2015_01_29/E4068/CT/S0005_0579\",\n",
    "\"METNET3000/D2015_01_30/E7112/CT/S0003_4332\",\n",
    "\"METNET3000/D2015_01_30/E7114/CT/S0006_4096\",\n",
    "\"METNET3018/D2015_03_09/E7025/CT/S0004_1286\",\n",
    "\"METNET3029/D2015_04_08/E3618/CT/S0001_9595\",\n",
    "\"METNET3029/D2015_04_08/E3620/CT/S0017_0377\",\n",
    "\"METNET3031/D2015_03_25/E0732/CT/S0007_3005\",\n",
    "]"
   ]
  },
  {
   "cell_type": "code",
   "execution_count": null,
   "metadata": {
    "collapsed": false
   },
   "outputs": [],
   "source": [
    "import pandas as pd\n",
    "import _init_paths\n",
    "from utils_metrics_3d import convert_name_compact\n",
    "\n",
    "import sys\n",
    "sys.path.append('/mnt/fast-disk1/mjc/utils_codes/read_weasis_raw_v0.96/')\n",
    "from overlay_contour_on_image import ContourOnImageOverlayer\n",
    "import weasis_raw_data_api as wr\n",
    "\n",
    "# DL_info = 'RawToWeasisUnionAIRadiologist.csv'\n",
    "# DL_info = 'RawToWeasisUnionAIRadiologist_Amgen20020408.csv'\n",
    "DL_info = 'RawToWeasisUnionAIRadiologist_1033.csv'\n",
    "if DL_info[-4:]=='.csv':\n",
    "    df = pd.read_csv(DL_info)\n",
    "else:\n",
    "    df = pd.read_excel(DL_info)\n",
    "\n",
    "    \n",
    "\n",
    "df_CT = df.drop_duplicates(subset=['Image File Path'], keep='first')\n",
    "cts= df_CT['Image File Path'].values.tolist()\n",
    "for target_ct in targets:\n",
    "    cc = [one for one in cts if target_ct in one]\n",
    "    if not len(cc):\n",
    "        continue\n",
    "    else:\n",
    "        print('found', target_ct)\n",
    "    for ct in cc:\n",
    "        df_raw= df[df['Image File Path']==ct]\n",
    "        raws = df_raw['Contour File Path'].values.tolist()\n",
    "        savename = \"DisplayWeasisRaw/{}.png\".format(convert_name_compact(ct))\n",
    "        wr.overlay_contours(ct, raws, [ContourOnImageOverlayer.RED]*len(raws), savename)\n",
    "        print('saved', savename)\n",
    "    "
   ]
  },
  {
   "cell_type": "code",
   "execution_count": null,
   "metadata": {
    "collapsed": false
   },
   "outputs": [],
   "source": [
    "for target_ct in targets:\n",
    "    cc = [one for one in cts if target_ct in one]\n",
    "    if not len(cc):\n",
    "        continue\n",
    "    else:\n",
    "        print(target_ct , len(cc))\n",
    "  "
   ]
  },
  {
   "cell_type": "code",
   "execution_count": 5,
   "metadata": {
    "collapsed": false
   },
   "outputs": [
    {
     "name": "stdout",
     "output_type": "stream",
     "text": [
      "found METNET0010/D2019_01_04/E0016/CT/S0003_7994\n",
      "saved ./DisplayWeasisRaw/PDS_AUTO_RECIST_METNET0010_D2019_01_04_E0016_CT_S0003_7994_T0001.png\n",
      "found METNET0017/D2019_05_09/E0341/CT/S0005_3505\n",
      "saved ./DisplayWeasisRaw/PDS_AUTO_RECIST_METNET0017_D2019_05_09_E0341_CT_S0005_3505_T0001.png\n",
      "found METNET0061/D2019_09_23/E8963/CT/S0006_9201\n",
      "saved ./DisplayWeasisRaw/PDS_AUTO_RECIST_METNET0061_D2019_09_23_E8963_CT_S0006_9201_T0001.png\n",
      "saved ./DisplayWeasisRaw/PDS_AUTO_RECIST_METNET0061_D2019_09_23_E8963_CT_S0006_9201_T0002.png\n",
      "saved ./DisplayWeasisRaw/PDS_AUTO_RECIST_METNET0061_D2019_09_23_E8963_CT_S0006_9201_T0003.png\n",
      "found METNET0062/D2019_06_24/E3991/CT/S0704_8364\n",
      "saved ./DisplayWeasisRaw/PDS_AUTO_RECIST_METNET0062_D2019_06_24_E3991_CT_S0704_8364_T0001.png\n",
      "found METNET0063/D2019_09_06/E5582/CT/S0004_5912\n",
      "saved ./DisplayWeasisRaw/PDS_AUTO_RECIST_METNET0063_D2019_09_06_E5582_CT_S0004_5912_T0001.png\n",
      "saved ./DisplayWeasisRaw/PDS_AUTO_RECIST_METNET0063_D2019_09_06_E5582_CT_S0004_5912_T0002.png\n",
      "saved ./DisplayWeasisRaw/PDS_AUTO_RECIST_METNET0063_D2019_09_06_E5582_CT_S0004_5912_T0003.png\n",
      "found METNET0070/D2020_03_10/E1191/CT/S0006_1494\n",
      "saved ./DisplayWeasisRaw/PDS_AUTO_RECIST_METNET0070_D2020_03_10_E1191_CT_S0006_1494_T0001.png\n",
      "saved ./DisplayWeasisRaw/PDS_AUTO_RECIST_METNET0070_D2020_03_10_E1191_CT_S0006_1494_T0002.png\n",
      "saved ./DisplayWeasisRaw/PDS_AUTO_RECIST_METNET0070_D2020_03_10_E1191_CT_S0006_1494_T0003.png\n",
      "saved ./DisplayWeasisRaw/PDS_AUTO_RECIST_METNET0070_D2020_03_10_E1191_CT_S0006_1494_T0004.png\n",
      "saved ./DisplayWeasisRaw/PDS_AUTO_RECIST_METNET0070_D2020_03_10_E1191_CT_S0006_1494_T0005.png\n",
      "saved ./DisplayWeasisRaw/PDS_AUTO_RECIST_METNET0070_D2020_03_10_E1191_CT_S0006_1494_T0006.png\n",
      "saved ./DisplayWeasisRaw/PDS_AUTO_RECIST_METNET0070_D2020_03_10_E1191_CT_S0006_1494_T0007.png\n",
      "found METNET0074/D2020_03_23/E3151/CT/S0001_8171\n",
      "saved ./DisplayWeasisRaw/PDS_AUTO_RECIST_METNET0074_D2020_03_23_E3151_CT_S0001_8171_T0001.png\n",
      "saved ./DisplayWeasisRaw/PDS_AUTO_RECIST_METNET0074_D2020_03_23_E3151_CT_S0001_8171_T0002.png\n",
      "saved ./DisplayWeasisRaw/PDS_AUTO_RECIST_METNET0074_D2020_03_23_E3151_CT_S0001_8171_T0003.png\n",
      "saved ./DisplayWeasisRaw/PDS_AUTO_RECIST_METNET0074_D2020_03_23_E3151_CT_S0001_8171_T0004.png\n",
      "saved ./DisplayWeasisRaw/PDS_AUTO_RECIST_METNET0074_D2020_03_23_E3151_CT_S0001_8171_T0005.png\n",
      "saved ./DisplayWeasisRaw/PDS_AUTO_RECIST_METNET0074_D2020_03_23_E3151_CT_S0001_8171_T0006.png\n",
      "found METNET0096/D2019_03_12/E7312/CT/S0006_3216\n",
      "saved ./DisplayWeasisRaw/PDS_AUTO_RECIST_METNET0096_D2019_03_12_E7312_CT_S0006_3216_T0001.png\n",
      "found METNET0117/D2019_05_23/E5543/CT/S0004_3920\n",
      "saved ./DisplayWeasisRaw/PDS_AUTO_RECIST_METNET0117_D2019_05_23_E5543_CT_S0004_3920_T0001.png\n",
      "saved ./DisplayWeasisRaw/PDS_AUTO_RECIST_METNET0117_D2019_05_23_E5543_CT_S0004_3920_T0002.png\n",
      "saved ./DisplayWeasisRaw/PDS_AUTO_RECIST_METNET0117_D2019_05_23_E5543_CT_S0004_3920_T0003.png\n",
      "saved ./DisplayWeasisRaw/PDS_AUTO_RECIST_METNET0117_D2019_05_23_E5543_CT_S0004_3920_T0004.png\n",
      "found METNET0124/D2019_05_24/E4682/CT/S0007_2134\n",
      "saved ./DisplayWeasisRaw/PDS_AUTO_RECIST_METNET0124_D2019_05_24_E4682_CT_S0007_2134_T0001.png\n",
      "found METNET0150/D2019_12_13/E6241/CT/S0005_2496\n",
      "saved ./DisplayWeasisRaw/PDS_AUTO_RECIST_METNET0150_D2019_12_13_E6241_CT_S0005_2496_T0001.png\n",
      "saved ./DisplayWeasisRaw/PDS_AUTO_RECIST_METNET0150_D2019_12_13_E6241_CT_S0005_2496_T0002.png\n",
      "saved ./DisplayWeasisRaw/PDS_AUTO_RECIST_METNET0150_D2019_12_13_E6241_CT_S0005_2496_T0003.png\n",
      "saved ./DisplayWeasisRaw/PDS_AUTO_RECIST_METNET0150_D2019_12_13_E6241_CT_S0005_2496_T0004.png\n",
      "saved ./DisplayWeasisRaw/PDS_AUTO_RECIST_METNET0150_D2019_12_13_E6241_CT_S0005_2496_T0005.png\n",
      "saved ./DisplayWeasisRaw/PDS_AUTO_RECIST_METNET0150_D2019_12_13_E6241_CT_S0005_2496_T0006.png\n",
      "saved ./DisplayWeasisRaw/PDS_AUTO_RECIST_METNET0150_D2019_12_13_E6241_CT_S0005_2496_T0007.png\n",
      "found METNET0153/D2019_12_10/E3951/CT/S0003_3965\n",
      "saved ./DisplayWeasisRaw/PDS_AUTO_RECIST_METNET0153_D2019_12_10_E3951_CT_S0003_3965_T0001.png\n",
      "saved ./DisplayWeasisRaw/PDS_AUTO_RECIST_METNET0153_D2019_12_10_E3951_CT_S0003_3965_T0002.png\n",
      "saved ./DisplayWeasisRaw/PDS_AUTO_RECIST_METNET0153_D2019_12_10_E3951_CT_S0003_3965_T0003.png\n",
      "saved ./DisplayWeasisRaw/PDS_AUTO_RECIST_METNET0153_D2019_12_10_E3951_CT_S0003_3965_T0004.png\n",
      "saved ./DisplayWeasisRaw/PDS_AUTO_RECIST_METNET0153_D2019_12_10_E3951_CT_S0003_3965_T0005.png\n",
      "saved ./DisplayWeasisRaw/PDS_AUTO_RECIST_METNET0153_D2019_12_10_E3951_CT_S0003_3965_T0006.png\n",
      "found METNET0173/D2020_01_16/E7597/CT/S0003_1998\n",
      "saved ./DisplayWeasisRaw/PDS_AUTO_RECIST_METNET0173_D2020_01_16_E7597_CT_S0003_1998_T0001.png\n",
      "saved ./DisplayWeasisRaw/PDS_AUTO_RECIST_METNET0173_D2020_01_16_E7597_CT_S0003_1998_T0002.png\n",
      "saved ./DisplayWeasisRaw/PDS_AUTO_RECIST_METNET0173_D2020_01_16_E7597_CT_S0003_1998_T0003.png\n",
      "saved ./DisplayWeasisRaw/PDS_AUTO_RECIST_METNET0173_D2020_01_16_E7597_CT_S0003_1998_T0004.png\n",
      "saved ./DisplayWeasisRaw/PDS_AUTO_RECIST_METNET0173_D2020_01_16_E7597_CT_S0003_1998_T0005.png\n",
      "saved ./DisplayWeasisRaw/PDS_AUTO_RECIST_METNET0173_D2020_01_16_E7597_CT_S0003_1998_T0006.png\n",
      "saved ./DisplayWeasisRaw/PDS_AUTO_RECIST_METNET0173_D2020_01_16_E7597_CT_S0003_1998_T0007.png\n",
      "saved ./DisplayWeasisRaw/PDS_AUTO_RECIST_METNET0173_D2020_01_16_E7597_CT_S0003_1998_T0008.png\n",
      "found METNET0174/D2019_01_18/E3953/CT/S0003_9603\n",
      "saved ./DisplayWeasisRaw/PDS_AUTO_RECIST_METNET0174_D2019_01_18_E3953_CT_S0003_9603_T0001.png\n",
      "saved ./DisplayWeasisRaw/PDS_AUTO_RECIST_METNET0174_D2019_01_18_E3953_CT_S0003_9603_T0002.png\n",
      "found METNET0194/D2019_02_11/E3607/CT/S0002_7368\n",
      "saved ./DisplayWeasisRaw/PDS_AUTO_RECIST_METNET0194_D2019_02_11_E3607_CT_S0002_7368_T0001.png\n",
      "saved ./DisplayWeasisRaw/PDS_AUTO_RECIST_METNET0194_D2019_02_11_E3607_CT_S0002_7368_T0002.png\n",
      "saved ./DisplayWeasisRaw/PDS_AUTO_RECIST_METNET0194_D2019_02_11_E3607_CT_S0002_7368_T0003.png\n",
      "saved ./DisplayWeasisRaw/PDS_AUTO_RECIST_METNET0194_D2019_02_11_E3607_CT_S0002_7368_T0004.png\n",
      "saved ./DisplayWeasisRaw/PDS_AUTO_RECIST_METNET0194_D2019_02_11_E3607_CT_S0002_7368_T0005.png\n",
      "found METNET0194/D2019_02_11/E3611/CT/S0002_7005\n",
      "saved ./DisplayWeasisRaw/PDS_AUTO_RECIST_METNET0194_D2019_02_11_E3611_CT_S0002_7005_T0001.png\n",
      "saved ./DisplayWeasisRaw/PDS_AUTO_RECIST_METNET0194_D2019_02_11_E3611_CT_S0002_7005_T0002.png\n",
      "saved ./DisplayWeasisRaw/PDS_AUTO_RECIST_METNET0194_D2019_02_11_E3611_CT_S0002_7005_T0003.png\n",
      "saved ./DisplayWeasisRaw/PDS_AUTO_RECIST_METNET0194_D2019_02_11_E3611_CT_S0002_7005_T0004.png\n",
      "saved ./DisplayWeasisRaw/PDS_AUTO_RECIST_METNET0194_D2019_02_11_E3611_CT_S0002_7005_T0005.png\n",
      "found METNET0205/D2019_03_14/E5239/CT/S0004_7948\n",
      "saved ./DisplayWeasisRaw/PDS_AUTO_RECIST_METNET0205_D2019_03_14_E5239_CT_S0004_7948_T0001.png\n",
      "found METNET0220/D2019_01_07/E5522/CT/S0005_1005\n",
      "saved ./DisplayWeasisRaw/PDS_AUTO_RECIST_METNET0220_D2019_01_07_E5522_CT_S0005_1005_T0001.png\n"
     ]
    }
   ],
   "source": [
    "import pandas as pd\n",
    "import _init_paths\n",
    "from utils_metrics_3d import convert_name_compact\n",
    "\n",
    "import sys\n",
    "sys.path.append('/mnt/fast-disk1/mjc/utils_codes/read_weasis_raw_v0.96/')\n",
    "from overlay_contour_on_image import ContourOnImageOverlayer\n",
    "import weasis_raw_data_api as wr\n",
    "\n",
    "DL_info = 'RawToWeasisUnionAIRadiologist.csv'\n",
    "# DL_info = 'RawToWeasisUnionAIRadiologist_Amgen20020408.csv'\n",
    "# DL_info = 'RawToWeasisUnionAIRadiologist_1033.csv'\n",
    "if DL_info[-4:]=='.csv':\n",
    "    df = pd.read_csv(DL_info)\n",
    "else:\n",
    "    df = pd.read_excel(DL_info)\n",
    "\n",
    "    \n",
    "\n",
    "df_CT = df.drop_duplicates(subset=['Image File Path'], keep='first')\n",
    "cts= df_CT['Image File Path'].values.tolist()\n",
    "for target_ct in targets:\n",
    "    cc = [one for one in cts if target_ct in one]\n",
    "    if not len(cc):\n",
    "        continue\n",
    "    else:\n",
    "        print('found', target_ct)\n",
    "    for ct in cc:\n",
    "        df_raw= df[df['Image File Path']==ct]\n",
    "        raws = df_raw['Contour File Path'].values.tolist()\n",
    "        for n , raw in enumerate(raws):\n",
    "            savename = \"./DisplayWeasisRaw/{}_T{:04d}.png\".format( convert_name_compact(ct) , n+1)\n",
    "            wr.overlay_contours(ct, [raw], [ContourOnImageOverlayer.RED], savename)\n",
    "            print('saved', savename)"
   ]
  },
  {
   "cell_type": "code",
   "execution_count": null,
   "metadata": {
    "collapsed": false
   },
   "outputs": [],
   "source": [
    "savename"
   ]
  },
  {
   "cell_type": "code",
   "execution_count": null,
   "metadata": {
    "collapsed": false
   },
   "outputs": [],
   "source": [
    "convert_name_compact(ct)"
   ]
  },
  {
   "cell_type": "code",
   "execution_count": null,
   "metadata": {
    "collapsed": false
   },
   "outputs": [],
   "source": [
    "!ls -lht *.csv"
   ]
  },
  {
   "cell_type": "code",
   "execution_count": null,
   "metadata": {
    "collapsed": false
   },
   "outputs": [],
   "source": [
    "import pandas as pd\n",
    "DL_info = 'RawToWeasisUnionAIRadiologist.csv'\n",
    "if DL_info[-4:]=='.csv':\n",
    "    df = pd.read_csv(DL_info)\n",
    "else:\n",
    "    df = pd.read_excel(DL_info)\n",
    "\n",
    "    \n",
    "\n",
    "df_CT = df.drop_duplicates(subset=['Image File Path'], keep='first')\n",
    "\n",
    "\n",
    "cts= df_CT['Image File Path'].values.tolist()\n",
    "cc = [one for one in cts if 'NET0028' in one]\n",
    "\n",
    "\n",
    "ct = cc[0]\n",
    "\n",
    "df_raw= df[df['Image File Path']==ct]\n",
    "raws = df_raw['Contour File Path'].values.tolist()\n",
    "\n",
    "import sys\n",
    "sys.path.append('/mnt/fast-disk1/mjc/utils_codes/read_weasis_raw_v0.96/')\n",
    "from overlay_contour_on_image import ContourOnImageOverlayer\n",
    "import weasis_raw_data_api as wr\n",
    "\n",
    "wr.overlay_contours(ct, raws, [ContourOnImageOverlayer.RED]*len(raws), 'test0028.png')"
   ]
  }
 ],
 "metadata": {
  "kernelspec": {
   "display_name": "Environment (conda_scalenas)",
   "language": "python",
   "name": "conda_scalenas"
  },
  "language_info": {
   "codemirror_mode": {
    "name": "ipython",
    "version": 3
   },
   "file_extension": ".py",
   "mimetype": "text/x-python",
   "name": "python",
   "nbconvert_exporter": "python",
   "pygments_lexer": "ipython3",
   "version": "3.6.13"
  }
 },
 "nbformat": 4,
 "nbformat_minor": 2
}
