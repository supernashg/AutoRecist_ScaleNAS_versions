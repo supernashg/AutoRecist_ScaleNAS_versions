{
 "cells": [
  {
   "cell_type": "code",
   "execution_count": null,
   "metadata": {
    "collapsed": false,
    "scrolled": false
   },
   "outputs": [],
   "source": [
    "!pwd"
   ]
  },
  {
   "cell_type": "code",
   "execution_count": 11,
   "metadata": {
    "collapsed": false,
    "scrolled": true
   },
   "outputs": [],
   "source": [
    "\n",
    "DL_info = '/mnt/fast-data/mjc/AutoRECIST/Inputs/PDS_AUTO_RECIST CIA-LAB Image and Contour 2020-10-01.xlsx'\n",
    "\n",
    "SAVE_PATH = '/mnt/fast-disk1/mjc/AutoRecist/Outputs/ScaleNAS_Q5_9Slices/Peritoneal_Metastasis'\n",
    "\n",
    "import pandas as pd\n",
    "df = pd.read_excel(DL_info)\n",
    "pd_str_replace(df, ['Image File Path' , 'Contour File Path'], \"X:\" , \"/mnt/X-drive\")\n",
    "pd_str_replace(df, ['Image File Path' , 'Contour File Path'], r\"\\\\\" , \"/\")\n",
    "pd_str_replace(df, ['Image File Path'], \"/mnt/X-drive/ClinicalTrials/FNIH_VOLPACK\", \"/mnt/fast-disk1/mjc/AutoRecist/Inputs\")\n",
    "pd_str_replace(df, ['Image File Path'], \"/mnt/X-drive/ClinicalTrials\", \"/mnt/fast-disk1/mjc/AutoRecist/Inputs\")\n",
    "\n",
    "\n"
   ]
  },
  {
   "cell_type": "code",
   "execution_count": 16,
   "metadata": {
    "collapsed": false
   },
   "outputs": [
    {
     "data": {
      "text/plain": [
       "{'abdomen',\n",
       " 'abdomen LN',\n",
       " 'adrenal',\n",
       " 'axillary LN',\n",
       " 'bone',\n",
       " 'kidney',\n",
       " 'liver',\n",
       " 'lung',\n",
       " 'mediastinum LN',\n",
       " 'ovary',\n",
       " 'pancreas',\n",
       " 'pelvic LN',\n",
       " 'pelvis',\n",
       " 'pleural',\n",
       " 'retroperitoneal LN',\n",
       " 'soft tissue',\n",
       " 'spleen',\n",
       " 'thyroid'}"
      ]
     },
     "execution_count": 16,
     "metadata": {},
     "output_type": "execute_result"
    }
   ],
   "source": [
    "set(df.Location)"
   ]
  },
  {
   "cell_type": "code",
   "execution_count": 18,
   "metadata": {
    "collapsed": false
   },
   "outputs": [],
   "source": [
    "df = df[ df.Location.isin(['abdomen' , 'abdonmen LN']) ]"
   ]
  },
  {
   "cell_type": "code",
   "execution_count": 19,
   "metadata": {
    "collapsed": false
   },
   "outputs": [
    {
     "data": {
      "text/plain": [
       "32"
      ]
     },
     "execution_count": 19,
     "metadata": {},
     "output_type": "execute_result"
    }
   ],
   "source": [
    "len(df)"
   ]
  },
  {
   "cell_type": "code",
   "execution_count": 20,
   "metadata": {
    "collapsed": false
   },
   "outputs": [
    {
     "name": "stdout",
     "output_type": "stream",
     "text": [
      "Initial Image Process\n",
      "130\n",
      "163\n",
      "164\n",
      "172\n",
      "173\n",
      "181\n",
      "182\n",
      "246\n",
      "292\n",
      "293\n",
      "294\n",
      "295\n",
      "296\n",
      "297\n",
      "298\n",
      "299\n",
      "300\n",
      "381\n",
      "382\n",
      "416\n",
      "515\n",
      "526\n",
      "545\n",
      "605\n",
      "606\n",
      "608\n",
      "811\n",
      "813\n",
      "815\n",
      "872\n",
      "979\n",
      "1054\n",
      "Image Process is Done\n",
      "Total of 2585 slice images was Processed.\n"
     ]
    }
   ],
   "source": [
    "%run -i Demo_Read_CT.py\n"
   ]
  },
  {
   "cell_type": "code",
   "execution_count": null,
   "metadata": {
    "collapsed": false
   },
   "outputs": [],
   "source": []
  },
  {
   "cell_type": "code",
   "execution_count": null,
   "metadata": {
    "collapsed": false
   },
   "outputs": [],
   "source": []
  },
  {
   "cell_type": "code",
   "execution_count": 21,
   "metadata": {
    "collapsed": false,
    "scrolled": false
   },
   "outputs": [
    {
     "name": "stdout",
     "output_type": "stream",
     "text": [
      "rm: cannot remove ‘/mnt/fast-disk1/mjc/AutoRecist/Codes/ScaleNAS_9Slices/tools/cache/inference_gt_roidb.pkl’: No such file or directory\n",
      "loading annotations into memory...\n",
      "Done (t=0.02s)\n",
      "creating index...\n",
      "index created!\n"
     ]
    },
    {
     "name": "stderr",
     "output_type": "stream",
     "text": [
      "Cache ground truth roidb to /mnt/fast-disk1/mjc/AutoRecist/Codes/ScaleNAS_9Slices/tools/cache/inference_gt_roidb.pkl\n",
      "Loaded dataset: inference\n",
      "Computing image aspect ratios and ordering the ratios...\n",
      "done\n",
      "Computing bounding-box regression targets...\n",
      "done\n"
     ]
    },
    {
     "name": "stdout",
     "output_type": "stream",
     "text": [
      "1 2585\n",
      "2 2585\n",
      "4 2585\n"
     ]
    }
   ],
   "source": [
    "\n",
    "!rm -v /mnt/fast-disk1/mjc/AutoRecist/Codes/ScaleNAS_9Slices/tools/cache/inference_gt_roidb.pkl\n",
    "\n",
    "test_roidb, test_ratio_list, test_ratio_index = combined_roidb_for_training(\n",
    "        ('inference',) , cfg.VAL.PROPOSAL_FILES)"
   ]
  },
  {
   "cell_type": "code",
   "execution_count": 22,
   "metadata": {
    "collapsed": false
   },
   "outputs": [
    {
     "name": "stdout",
     "output_type": "stream",
     "text": [
      "Image results are saving into /mnt/fast-disk1/mjc/AutoRecist/Outputs/ScaleNAS_Q5_9Slices/Peritoneal_Metastasis/CTs_inference/PDS_AUTO_RECIST_METNET0023_D2019_01_03_E3282_CT_S0002_3258\n",
      "Image results are saving into /mnt/fast-disk1/mjc/AutoRecist/Outputs/ScaleNAS_Q5_9Slices/Peritoneal_Metastasis/CTs_inference/PDS_AUTO_RECIST_METNET0029_D2019_06_21_E9823_CT_S0006_8306\n",
      "Image results are saving into /mnt/fast-disk1/mjc/AutoRecist/Outputs/ScaleNAS_Q5_9Slices/Peritoneal_Metastasis/CTs_inference/PDS_AUTO_RECIST_METNET0030_D2020_03_16_E8527_CT_S0002_8534\n",
      "Image results are saving into /mnt/fast-disk1/mjc/AutoRecist/Outputs/ScaleNAS_Q5_9Slices/Peritoneal_Metastasis/CTs_inference/PDS_AUTO_RECIST_METNET0033_D2018_10_24_E0816_CT_S0002_0822\n",
      "Image results are saving into /mnt/fast-disk1/mjc/AutoRecist/Outputs/ScaleNAS_Q5_9Slices/Peritoneal_Metastasis/CTs_inference/PDS_AUTO_RECIST_METNET0037_D2018_11_21_E5630_CT_S0202_0203\n",
      "Image results are saving into /mnt/fast-disk1/mjc/AutoRecist/Outputs/ScaleNAS_Q5_9Slices/Peritoneal_Metastasis/CTs_inference/PDS_AUTO_RECIST_METNET0038_D2018_11_08_E1856_CT_S0004_9015\n",
      "Image results are saving into /mnt/fast-disk1/mjc/AutoRecist/Outputs/ScaleNAS_Q5_9Slices/Peritoneal_Metastasis/CTs_inference/PDS_AUTO_RECIST_METNET0047_D2019_01_16_E1278_CT_S0004_0423\n",
      "Image results are saving into /mnt/fast-disk1/mjc/AutoRecist/Outputs/ScaleNAS_Q5_9Slices/Peritoneal_Metastasis/CTs_inference/PDS_AUTO_RECIST_METNET0058_D2019_04_09_E7107_CT_S0004_0747\n",
      "Image results are saving into /mnt/fast-disk1/mjc/AutoRecist/Outputs/ScaleNAS_Q5_9Slices/Peritoneal_Metastasis/CTs_inference/PDS_AUTO_RECIST_METNET0076_D2019_01_07_E1023_CT_S0003_0772\n",
      "Image results are saving into /mnt/fast-disk1/mjc/AutoRecist/Outputs/ScaleNAS_Q5_9Slices/Peritoneal_Metastasis/CTs_inference/PDS_AUTO_RECIST_METNET0089_D2019_10_22_E2646_CT_S0003_6412\n",
      "Image results are saving into /mnt/fast-disk1/mjc/AutoRecist/Outputs/ScaleNAS_Q5_9Slices/Peritoneal_Metastasis/CTs_inference/PDS_AUTO_RECIST_METNET0110_D2020_01_14_E9884_CT_S0011_3164\n",
      "Image results are saving into /mnt/fast-disk1/mjc/AutoRecist/Outputs/ScaleNAS_Q5_9Slices/Peritoneal_Metastasis/CTs_inference/PDS_AUTO_RECIST_METNET0113_D2019_08_20_E0724_CT_S0007_7337\n",
      "Image results are saving into /mnt/fast-disk1/mjc/AutoRecist/Outputs/ScaleNAS_Q5_9Slices/Peritoneal_Metastasis/CTs_inference/PDS_AUTO_RECIST_METNET0116_D2019_01_15_E7393_CT_S0006_5482\n",
      "Image results are saving into /mnt/fast-disk1/mjc/AutoRecist/Outputs/ScaleNAS_Q5_9Slices/Peritoneal_Metastasis/CTs_inference/PDS_AUTO_RECIST_METNET0128_D2019_09_17_E0773_CT_S0003_9824\n",
      "Image results are saving into /mnt/fast-disk1/mjc/AutoRecist/Outputs/ScaleNAS_Q5_9Slices/Peritoneal_Metastasis/CTs_inference/PDS_AUTO_RECIST_METNET0129_D2019_01_28_E0202_CT_S0002_0209\n",
      "Image results are saving into /mnt/fast-disk1/mjc/AutoRecist/Outputs/ScaleNAS_Q5_9Slices/Peritoneal_Metastasis/CTs_inference/PDS_AUTO_RECIST_METNET0197_D2019_04_12_E2953_CT_S0002_6892\n",
      "Image results are saving into /mnt/fast-disk1/mjc/AutoRecist/Outputs/ScaleNAS_Q5_9Slices/Peritoneal_Metastasis/CTs_inference/PDS_AUTO_RECIST_METNET0224_D2015_01_05_E3819_CT_S0005_8265\n",
      "Image results are saving into /mnt/fast-disk1/mjc/AutoRecist/Outputs/ScaleNAS_Q5_9Slices/Peritoneal_Metastasis/CTs_inference/PDS_AUTO_RECIST_METNET0244_D2019_06_17_E7358_CT_S0006_3656\n",
      "Image results are saving into /mnt/fast-disk1/mjc/AutoRecist/Outputs/ScaleNAS_Q5_9Slices/Peritoneal_Metastasis/CTs_inference/PDS_AUTO_RECIST_METNET0263_D2019_02_05_E7272_CT_S0002_2601\n"
     ]
    }
   ],
   "source": [
    "%run -i Demo_Visualization.py"
   ]
  },
  {
   "cell_type": "code",
   "execution_count": null,
   "metadata": {
    "collapsed": false
   },
   "outputs": [],
   "source": [
    "SAVE_PATH"
   ]
  }
 ],
 "metadata": {
  "kernelspec": {
   "display_name": "Environment (conda_scalenas)",
   "language": "python",
   "name": "conda_scalenas"
  },
  "language_info": {
   "codemirror_mode": {
    "name": "ipython",
    "version": 3
   },
   "file_extension": ".py",
   "mimetype": "text/x-python",
   "name": "python",
   "nbconvert_exporter": "python",
   "pygments_lexer": "ipython3",
   "version": "3.6.13"
  }
 },
 "nbformat": 4,
 "nbformat_minor": 2
}
