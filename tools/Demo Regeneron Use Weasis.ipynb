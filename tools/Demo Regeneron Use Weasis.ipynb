{
 "cells": [
  {
   "cell_type": "code",
   "execution_count": 1,
   "metadata": {
    "collapsed": false,
    "scrolled": true
   },
   "outputs": [],
   "source": [
    "CT_EXCEL_FILE = '/mnt/fast-disk1/demo/Demo_inference.xlsx'\n",
    "SAVE_PATH = '/mnt/fast-disk1/demo/'\n",
    "\n",
    "import pandas as pd\n",
    "df = pd.read_excel(CT_EXCEL_FILE)"
   ]
  },
  {
   "cell_type": "code",
   "execution_count": 2,
   "metadata": {
    "collapsed": false
   },
   "outputs": [
    {
     "data": {
      "text/html": [
       "<div>\n",
       "<style scoped>\n",
       "    .dataframe tbody tr th:only-of-type {\n",
       "        vertical-align: middle;\n",
       "    }\n",
       "\n",
       "    .dataframe tbody tr th {\n",
       "        vertical-align: top;\n",
       "    }\n",
       "\n",
       "    .dataframe thead th {\n",
       "        text-align: right;\n",
       "    }\n",
       "</style>\n",
       "<table border=\"1\" class=\"dataframe\">\n",
       "  <thead>\n",
       "    <tr style=\"text-align: right;\">\n",
       "      <th></th>\n",
       "      <th>Image File Path</th>\n",
       "    </tr>\n",
       "  </thead>\n",
       "  <tbody>\n",
       "    <tr>\n",
       "      <th>0</th>\n",
       "      <td>/mnt/fast-disk1/mjc/AutoRecist/Inputs/AMGEN/20...</td>\n",
       "    </tr>\n",
       "    <tr>\n",
       "      <th>1</th>\n",
       "      <td>/mnt/fast-disk1/mjc/AutoRecist/Inputs/PDS_AUTO...</td>\n",
       "    </tr>\n",
       "    <tr>\n",
       "      <th>2</th>\n",
       "      <td>/mnt/fast-disk1/mjc/AutoRecist/Inputs/COU-AA-3...</td>\n",
       "    </tr>\n",
       "    <tr>\n",
       "      <th>3</th>\n",
       "      <td>/mnt/fast-disk1/mjc/AutoRecist/Inputs/AMGEN/20...</td>\n",
       "    </tr>\n",
       "    <tr>\n",
       "      <th>4</th>\n",
       "      <td>/mnt/fast-disk1/mjc/AutoRecist/Inputs/AMGEN/20...</td>\n",
       "    </tr>\n",
       "    <tr>\n",
       "      <th>5</th>\n",
       "      <td>/mnt/fast-disk1/mjc/AutoRecist/Inputs/PDS_AUTO...</td>\n",
       "    </tr>\n",
       "    <tr>\n",
       "      <th>6</th>\n",
       "      <td>/mnt/fast-disk1/mjc/AutoRecist/Inputs/PDS_AUTO...</td>\n",
       "    </tr>\n",
       "    <tr>\n",
       "      <th>7</th>\n",
       "      <td>/mnt/fast-disk1/mjc/AutoRecist/Inputs/PDS_AUTO...</td>\n",
       "    </tr>\n",
       "    <tr>\n",
       "      <th>8</th>\n",
       "      <td>/mnt/fast-disk1/mjc/AutoRecist/Inputs/PDS_AUTO...</td>\n",
       "    </tr>\n",
       "    <tr>\n",
       "      <th>9</th>\n",
       "      <td>/mnt/fast-disk1/mjc/AutoRecist/Inputs/PDS_AUTO...</td>\n",
       "    </tr>\n",
       "    <tr>\n",
       "      <th>10</th>\n",
       "      <td>/mnt/fast-disk1/mjc/AutoRecist/Inputs/COU-AA-3...</td>\n",
       "    </tr>\n",
       "    <tr>\n",
       "      <th>11</th>\n",
       "      <td>/mnt/fast-disk1/mjc/AutoRecist/Inputs/COU-AA-3...</td>\n",
       "    </tr>\n",
       "  </tbody>\n",
       "</table>\n",
       "</div>"
      ],
      "text/plain": [
       "                                      Image File Path\n",
       "0   /mnt/fast-disk1/mjc/AutoRecist/Inputs/AMGEN/20...\n",
       "1   /mnt/fast-disk1/mjc/AutoRecist/Inputs/PDS_AUTO...\n",
       "2   /mnt/fast-disk1/mjc/AutoRecist/Inputs/COU-AA-3...\n",
       "3   /mnt/fast-disk1/mjc/AutoRecist/Inputs/AMGEN/20...\n",
       "4   /mnt/fast-disk1/mjc/AutoRecist/Inputs/AMGEN/20...\n",
       "5   /mnt/fast-disk1/mjc/AutoRecist/Inputs/PDS_AUTO...\n",
       "6   /mnt/fast-disk1/mjc/AutoRecist/Inputs/PDS_AUTO...\n",
       "7   /mnt/fast-disk1/mjc/AutoRecist/Inputs/PDS_AUTO...\n",
       "8   /mnt/fast-disk1/mjc/AutoRecist/Inputs/PDS_AUTO...\n",
       "9   /mnt/fast-disk1/mjc/AutoRecist/Inputs/PDS_AUTO...\n",
       "10  /mnt/fast-disk1/mjc/AutoRecist/Inputs/COU-AA-3...\n",
       "11  /mnt/fast-disk1/mjc/AutoRecist/Inputs/COU-AA-3..."
      ]
     },
     "execution_count": 2,
     "metadata": {},
     "output_type": "execute_result"
    }
   ],
   "source": [
    "df"
   ]
  },
  {
   "cell_type": "code",
   "execution_count": null,
   "metadata": {
    "collapsed": false
   },
   "outputs": [],
   "source": [
    "df.loc[0:3]"
   ]
  },
  {
   "cell_type": "code",
   "execution_count": null,
   "metadata": {
    "collapsed": false
   },
   "outputs": [],
   "source": []
  },
  {
   "cell_type": "code",
   "execution_count": 3,
   "metadata": {
    "collapsed": false
   },
   "outputs": [
    {
     "name": "stdout",
     "output_type": "stream",
     "text": [
      "Initial Image Process\n",
      "0\n",
      "1\n",
      "2\n",
      "3\n",
      "4\n",
      "5\n",
      "6\n",
      "7\n",
      "8\n",
      "9\n",
      "10\n",
      "11\n",
      "Image Process is Done\n",
      "Total of 1858 slice images was Processed.\n"
     ]
    }
   ],
   "source": [
    "%run -i Demo_Read_CT.py"
   ]
  },
  {
   "cell_type": "code",
   "execution_count": 4,
   "metadata": {
    "collapsed": false
   },
   "outputs": [],
   "source": [
    "%%capture\n",
    "%run -i Demo_AI_inference.py"
   ]
  },
  {
   "cell_type": "code",
   "execution_count": null,
   "metadata": {
    "collapsed": false
   },
   "outputs": [],
   "source": [
    "%run -i Demo_Visualization.py"
   ]
  },
  {
   "cell_type": "code",
   "execution_count": 5,
   "metadata": {
    "collapsed": false,
    "scrolled": false
   },
   "outputs": [
    {
     "name": "stdout",
     "output_type": "stream",
     "text": [
      "loading annotations into memory...\n",
      "Done (t=0.01s)\n",
      "creating index...\n",
      "index created!\n",
      "1 1858\n",
      "2 1858\n",
      "4 1858\n"
     ]
    }
   ],
   "source": [
    "get_ipython().system('rm /mnt/fast-disk1/mjc/AutoRecist/Codes/ScaleNAS_9Slices/tools/cache/inference_gt_roidb.pkl')\n",
    "from dataset.roidb import combined_roidb_for_training\n",
    "from config import cfg\n",
    "test_roidb, test_ratio_list, test_ratio_index = combined_roidb_for_training(\n",
    "        ('inference',) , cfg.VAL.PROPOSAL_FILES)"
   ]
  },
  {
   "cell_type": "code",
   "execution_count": 7,
   "metadata": {
    "collapsed": false
   },
   "outputs": [
    {
     "name": "stdout",
     "output_type": "stream",
     "text": [
      "finished  /mnt/fast-disk1/mjc/AutoRecist/Pngs/AMGEN/20020408/BAIJO/D2004_02_19/E20040219/CT/S0005\n",
      "finished  /mnt/fast-disk1/mjc/AutoRecist/Pngs/PDS_AUTO_RECIST/METNET0013/D2019_03_28/E8423/CT/S0004_0721\n",
      "finished  /mnt/fast-disk1/mjc/AutoRecist/Pngs/COU-AA-302/COU-AA-302_163161485/D2011_09_25/E6573/CT/S0004_0857\n",
      "finished  /mnt/fast-disk1/mjc/AutoRecist/Pngs/AMGEN/20020408/BAIMS/D2004_02_29/E20040229/CT/S0003\n",
      "finished  /mnt/fast-disk1/mjc/AutoRecist/Pngs/AMGEN/20020408/BAIPL/D2004_02_27/E20040227/CT/S0006\n",
      "finished  /mnt/fast-disk1/mjc/AutoRecist/Pngs/PDS_AUTO_RECIST/METNET0028/D2019_07_12/E6851/CT/S0006_8606\n",
      "finished  /mnt/fast-disk1/mjc/AutoRecist/Pngs/PDS_AUTO_RECIST/METNET0040/D2018_12_25/E0028/CT/S0004_3920\n",
      "finished  /mnt/fast-disk1/mjc/AutoRecist/Pngs/PDS_AUTO_RECIST/METNET0056/D2019_03_19/E2806/CT/S0002_8158\n",
      "finished  /mnt/fast-disk1/mjc/AutoRecist/Pngs/PDS_AUTO_RECIST/METNET0249/D2019_11_25/E7414/CT/S0008_4556\n",
      "finished  /mnt/fast-disk1/mjc/AutoRecist/Pngs/PDS_AUTO_RECIST/METNET0018/D2019_01_15/E3786/CT/S0003_7953\n",
      "finished  /mnt/fast-disk1/mjc/AutoRecist/Pngs/COU-AA-302/COU-AA-302_17010151/D2011_07_20/E2378/CT/S0002_8828\n",
      "finished  /mnt/fast-disk1/mjc/AutoRecist/Pngs/COU-AA-302/COU-AA-302_17010151/D2011_07_20/E2378/CT/S0007_9281\n"
     ]
    }
   ],
   "source": [
    "%run -i Demo_Save_Raw_To_Weasis.py"
   ]
  },
  {
   "cell_type": "code",
   "execution_count": null,
   "metadata": {
    "collapsed": false
   },
   "outputs": [],
   "source": [
    "[image_series_path , file_name , user_id ]"
   ]
  },
  {
   "cell_type": "code",
   "execution_count": null,
   "metadata": {
    "collapsed": false,
    "scrolled": false
   },
   "outputs": [],
   "source": [
    "df_metrics = pd.DataFrame(Metrics_vol, \n",
    "                              columns = ['Image File Path','Contour File Path','Uni']) \n",
    "\n",
    "pd_str_replace(df_metrics, ['Image File Path' ], \"/mnt/fast-disk1/mjc/AutoRecist/Inputs/AMGEN/\" , r\"X:\\\\ClinicalTrials\\\\FNIH_VOLPACK\\\\AMGEN\\\\\")\n",
    "pd_str_replace(df_metrics, ['Image File Path' ], \"/mnt/fast-disk1/mjc/AutoRecist/Inputs/\" , r\"X:\\\\ClinicalTrials\\\\\")\n",
    "\n",
    "pd_str_replace(df_metrics, ['Contour File Path'], \"/mnt/fast-disk1/demo/RawToWeasis\", r\"X:\\\\Users\\\\JingchenMa\\\\AutoRecist\\\\RawToWeasis\\\\\")\n",
    "pd_str_replace(df_metrics, ['Image File Path' , 'Contour File Path'], \"/\" , r\"\\\\\" )\n",
    "\n",
    "\n",
    "df_metrics.to_csv(SAVE_PATH+'ImportContourIntoDatabase.csv' , index=False)"
   ]
  },
  {
   "cell_type": "code",
   "execution_count": null,
   "metadata": {
    "collapsed": false
   },
   "outputs": [],
   "source": [
    "df_metrics"
   ]
  }
 ],
 "metadata": {
  "kernelspec": {
   "display_name": "Environment (conda_scalenas)",
   "language": "python",
   "name": "conda_scalenas"
  },
  "language_info": {
   "codemirror_mode": {
    "name": "ipython",
    "version": 3
   },
   "file_extension": ".py",
   "mimetype": "text/x-python",
   "name": "python",
   "nbconvert_exporter": "python",
   "pygments_lexer": "ipython3",
   "version": "3.6.13"
  }
 },
 "nbformat": 4,
 "nbformat_minor": 2
}
